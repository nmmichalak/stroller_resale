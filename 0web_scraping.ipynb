{
 "cells": [
  {
   "cell_type": "markdown",
   "metadata": {},
   "source": [
    "# Import libraries"
   ]
  },
  {
   "cell_type": "code",
   "execution_count": 6,
   "metadata": {},
   "outputs": [],
   "source": [
    "# ! pip install numpy pandas matplotlib seaborn requests selenium bs4 time\n",
    "# ! pip install jupyter_contrib_nbextensions && jupyter contrib nbextension install \n",
    "\n",
    "import numpy as np\n",
    "import pandas as pd\n",
    "import matplotlib.pyplot as plt\n",
    "import seaborn as sns\n",
    "import requests\n",
    "import selenium\n",
    "from bs4 import BeautifulSoup\n",
    "import time"
   ]
  },
  {
   "cell_type": "markdown",
   "metadata": {},
   "source": [
    "# Web scraping test"
   ]
  },
  {
   "cell_type": "markdown",
   "metadata": {},
   "source": [
    "## Result page URL"
   ]
  },
  {
   "cell_type": "code",
   "execution_count": 7,
   "metadata": {},
   "outputs": [],
   "source": [
    "test_result_url = \"https://www.ebay.com/b/Strollers/66700/bn_1865261?LH_Sold=1\""
   ]
  },
  {
   "cell_type": "markdown",
   "metadata": {},
   "source": [
    "## Result page HTML"
   ]
  },
  {
   "cell_type": "code",
   "execution_count": 8,
   "metadata": {},
   "outputs": [],
   "source": [
    "test_result_html = requests.get(test_result_url)"
   ]
  },
  {
   "cell_type": "markdown",
   "metadata": {},
   "source": [
    "## Result page Soup"
   ]
  },
  {
   "cell_type": "code",
   "execution_count": 9,
   "metadata": {},
   "outputs": [],
   "source": [
    "test_result_soup = BeautifulSoup(test_result_html.text, \"html.parser\")"
   ]
  },
  {
   "cell_type": "markdown",
   "metadata": {},
   "source": [
    "## URLs from result page soup"
   ]
  },
  {
   "cell_type": "code",
   "execution_count": 10,
   "metadata": {},
   "outputs": [],
   "source": [
    "test_page_urls = [item_i.find(name = \"a\", class_ = \"s-item__link\")[\"href\"] for item_i in test_result_soup.find_all(name = \"li\", class_ = \"s-item\")]"
   ]
  },
  {
   "cell_type": "markdown",
   "metadata": {},
   "source": [
    "## HTML and soup from each stroller listing"
   ]
  },
  {
   "cell_type": "code",
   "execution_count": 11,
   "metadata": {},
   "outputs": [
    {
     "name": "stdout",
     "output_type": "stream",
     "text": [
      "Soup made for URL 1.\n",
      "Soup made for URL 2.\n",
      "Soup made for URL 3.\n",
      "Soup made for URL 4.\n",
      "Soup made for URL 5.\n",
      "Soup made for URL 6.\n",
      "Soup made for URL 7.\n",
      "Soup made for URL 8.\n",
      "Soup made for URL 9.\n",
      "Soup made for URL 10.\n",
      "Soup made for URL 11.\n",
      "Soup made for URL 12.\n",
      "Soup made for URL 13.\n",
      "Soup made for URL 14.\n",
      "Soup made for URL 15.\n",
      "Soup made for URL 16.\n",
      "Soup made for URL 17.\n",
      "Soup made for URL 18.\n",
      "Soup made for URL 19.\n",
      "Soup made for URL 20.\n",
      "Soup made for URL 21.\n",
      "Soup made for URL 22.\n",
      "Soup made for URL 23.\n",
      "Soup made for URL 24.\n",
      "Soup made for URL 25.\n",
      "Soup made for URL 26.\n",
      "Soup made for URL 27.\n",
      "Soup made for URL 28.\n",
      "Soup made for URL 29.\n",
      "Soup made for URL 30.\n",
      "Soup made for URL 31.\n",
      "Soup made for URL 32.\n",
      "Soup made for URL 33.\n",
      "Soup made for URL 34.\n",
      "Soup made for URL 35.\n",
      "Soup made for URL 36.\n",
      "Soup made for URL 37.\n",
      "Soup made for URL 38.\n",
      "Soup made for URL 39.\n",
      "Soup made for URL 40.\n",
      "Soup made for URL 41.\n",
      "Soup made for URL 42.\n",
      "Soup made for URL 43.\n",
      "Soup made for URL 44.\n",
      "Soup made for URL 45.\n",
      "Soup made for URL 46.\n",
      "Soup made for URL 47.\n",
      "Soup made for URL 48.\n"
     ]
    }
   ],
   "source": [
    "# containers for html and soup\n",
    "test_page_htmls = []\n",
    "test_page_soup = []\n",
    "\n",
    "# for loop with sleep time built in\n",
    "for i, url_i in enumerate(test_page_urls, start = 1):\n",
    "    # response/html\n",
    "    html_i = requests.get(url_i)\n",
    "    \n",
    "    # soup\n",
    "    soup_i = BeautifulSoup(html_i.text, \"html.parser\")\n",
    "    \n",
    "    # append html and soup to their containers\n",
    "    test_page_htmls.append(html_i)\n",
    "    test_page_soup.append(soup_i)\n",
    "    \n",
    "    # print iteration\n",
    "    print(\"Soup made for URL {}.\".format(i))\n",
    "    \n",
    "    # add random sleep time between 1 and 5 seconds\n",
    "    time.sleep(np.random.randint(low = 1, high = 5, size = 1))"
   ]
  },
  {
   "cell_type": "markdown",
   "metadata": {},
   "source": [
    "### Stroller listing title"
   ]
  },
  {
   "cell_type": "code",
   "execution_count": 12,
   "metadata": {},
   "outputs": [
    {
     "name": "stdout",
     "output_type": "stream",
     "text": [
      "1 Infant Toddler Baby Stroller Carriage - Cynebaby Compact Pram Strollers    | eBay\n",
      "2    Keenz Wagon 7s Stroller Color Blue  refurbished! Certificate  | eBay\n",
      "3 Infant Toddler Baby Stroller Carriage Cynebaby Compact Pram Strollers(Blue)  | eBay\n",
      "4 Infant Car Seat Stroller Combos 4 in 1 for new born, light weight for travel   | eBay\n",
      "5 Keenz 7s Stroller Wagon Black for sale online | eBay\n",
      "6 Combi Shuttle Baby Travel System Stroller & Car Seat Combo - Titanium for sale online | eBay\n",
      "7 Foldable Baby Kids Travel Stroller Newborn Infant Buggy Pushchair Child Gray  | eBay\n",
      "8 VEVOR Foldable Anti-Shock Newborn Stroller - Golden for sale online | eBay\n",
      "9 Chicco Bravo Trio Travel System Orion (orion) for sale online | eBay\n",
      "10    Keenz Wagon 7s Stroller Color Black  refurbished! Certificate  | eBay\n",
      "11 Nuna DEMI™ Grow Stroller with Sibling Seat, Aspen  | eBay\n",
      "12 GB Pockit+ Compact Stroller in Velvet Black  | eBay\n",
      "13 Keenz 7S Stroller Wagon  | eBay\n",
      "14 Bassinet Baby Stroller Reversible All Terrain - Cynebaby Vista City Select for for sale online | eBay\n",
      "15 GB Pockit+ Compact Stroller in Velvet Black  | eBay\n",
      "16 New In Box!! CYBEX Priam Lux Seat in Stardust Black  for sale online\n",
      "17 Evenflo Folio3 Stroller & Jog Travel System LiteMax 35 Infant Car Seat Crossover  | eBay\n",
      "18 GB Monument Black Pockit for sale online | eBay\n",
      "19 Combi Shuttle Travel System/Stroller Car Seat Combo / ITEM CLOSEOUT Was $299.99  | eBay\n",
      "20 G-Link UPPAbaby Double Stroller  | eBay\n",
      "21 Infant Toddler Baby Stroller Carriage Cynebaby Compact Pram Strollers(Khaki)  | eBay\n",
      "22 Cybex Mios Lightweight Compact Single Baby Stroller Black Frame for sale online | eBay\n",
      "23 Evenflo Folio3 Stroller & Jog Travel System LiteMax 35 Infant Car Seat Crossover  | eBay\n",
      "24 doona car seat & stoller with LATCH Base  | eBay\n",
      "25 Doona™ All-in-One Infant Car Seat/Stroller  | eBay\n",
      "26 Evenflo Pivot Xpand Modular Travel System With Safemax Infant Car Seat for sale online | eBay\n",
      "27 Doona Infant Car Seat/Stroller with LATCH Base  | eBay\n",
      "28 Uppababy Cruz Stroller Jake (Black)  | eBay\n",
      "29 NEW IN BOX Bugaboo Ant Complete Travel Compact Stroller - Steel Blue  | eBay\n",
      "30 BOB Revolution Flex Double Seat Jogging Stroller - Blue  | eBay\n",
      "31 doona  car seat stroller Without Latch Base  | eBay\n",
      "32 Baby Trend Navigator Double Jogger Stroller  | eBay\n",
      "33 Stokke Xplory Stroller in Black Melange 05/L210879A  | eBay\n",
      "34 Safety 1st Smooth Ride Travel System for sale online | eBay\n",
      "35 The Twinner. Baby Jogger Purple.  | eBay\n",
      "36 NEW IN BOX Bugaboo Ant Complete Travel Compact Stroller - Steel Blue  | eBay\n",
      "37 Nuna x pbk TRIV™ Stroller, Caviar Broken Arrow  | eBay\n",
      "38 Baby Trend Sit 'N Stand 5-in-1 Shopper Travel System, Moon Dust  | eBay\n",
      "39 Keenz 7s Premium Deluxe Toddler Baby Stroller Wagon - Black for sale online | eBay\n",
      "40 UPPAbaby VISTA Baby Stroller, Jake - Black for sale online | eBay\n",
      "41 Baby Trend Lightweight Expedition Double Jogger Stroller Elixer | DJ96715R for sale online | eBay\n",
      "42 Cybex Priam 3 Stroller Indigo Blue  | eBay\n",
      "43 Chicco Viaro Fold Travel System, Nordic 5086  | eBay\n",
      "44 Baby Trend Sit N Stand Travel Toddler & Baby Double Stroller, Millennium Orange  for sale online\n",
      "45 NEW IN BOX Bugaboo Ant Complete Travel Compact Stroller - Steel Blue  | eBay\n",
      "46 Baby Trend Navigator Double Jogger Stroller  | eBay\n",
      "47 UPPAbaby Vista. Frame Only  used brown leather (Special edition) Great Condition  | eBay\n",
      "48 Chicco Viaro Fold Travel System, Nordic 5086  | eBay\n"
     ]
    }
   ],
   "source": [
    "for i, soup_i in enumerate(test_page_soup, start = 1):\n",
    "    try:\n",
    "        print(i, soup_i.find(\"title\").get_text())\n",
    "    except:\n",
    "        print(i, \"None\")"
   ]
  },
  {
   "cell_type": "markdown",
   "metadata": {},
   "source": [
    "### Stroller ebay item number"
   ]
  },
  {
   "cell_type": "code",
   "execution_count": 71,
   "metadata": {},
   "outputs": [
    {
     "name": "stdout",
     "output_type": "stream",
     "text": [
      "1 324098351400\n",
      "2 254608963167\n",
      "3 324168622200\n",
      "4 254471556050\n",
      "5 None\n",
      "6 None\n",
      "7 133155291447\n",
      "8 None\n",
      "9 None\n",
      "10 254552056508\n",
      "11 264744223823\n",
      "12 223951905631\n",
      "13 254315319102\n",
      "14 None\n",
      "15 223942631867\n",
      "16 None\n",
      "17 223983641574\n",
      "18 None\n",
      "19 383475581663\n",
      "20 143617940037\n",
      "21 324030508975\n",
      "22 None\n",
      "23 223884021373\n",
      "24 303583875134\n",
      "25 184300789876\n",
      "26 None\n",
      "27 353062433191\n",
      "28 233598472759\n",
      "29 383533045080\n",
      "30 254600201687\n",
      "31 153947242638\n",
      "32 184287349806\n",
      "33 363002596117\n",
      "34 None\n",
      "35 392818071899\n",
      "36 124190345490\n",
      "37 264744178708\n",
      "38 153936857000\n",
      "39 None\n",
      "40 None\n",
      "41 None\n",
      "42 264743176473\n",
      "43 124188231926\n",
      "44 None\n",
      "45 383551739910\n",
      "46 184277542981\n",
      "47 233582315811\n",
      "48 124188231940\n"
     ]
    }
   ],
   "source": [
    "for i, soup_i in enumerate(test_page_soup, start = 1):\n",
    "    try:\n",
    "        print(i, soup_i.find(\"div\", {\"class\": \"u-flL iti-act-num itm-num-txt\"}).get_text())\n",
    "    except:\n",
    "        print(i, \"None\")"
   ]
  },
  {
   "cell_type": "markdown",
   "metadata": {},
   "source": [
    "### Stroller description (seller notes)"
   ]
  },
  {
   "cell_type": "code",
   "execution_count": 19,
   "metadata": {},
   "outputs": [
    {
     "name": "stdout",
     "output_type": "stream",
     "text": [
      "1 \n",
      "\t\t\t\t\t\t  \tA new, unused item with absolutely no signs of wear. The item may be missing the original packaging, or in the original packaging but not sealed. The item may be a factory second or a new, unused item with defects. See the seller’s listing for full details and description of any imperfections.\n",
      "\t\t\t\t\t\t\t\t\tSee all condition definitions- opens in a new window or tab\n",
      "\n",
      "\n",
      "2 \n",
      "\t\t\t\t\t\t  \tA new, unused item with absolutely no signs of wear. The item may be missing the original packaging, or in the original packaging but not sealed. The item may be a factory second or a new, unused item with defects. See the seller’s listing for full details and description of any imperfections.\n",
      "\t\t\t\t\t\t\t\t\tSee all condition definitions- opens in a new window or tab\n",
      "\n",
      "\n",
      "3 None\n",
      "4 None\n",
      "5 None\n",
      "6 None\n",
      "7 None\n",
      "8 None\n",
      "9 None\n",
      "10 \n",
      "\t\t\t\t\t\t  \tA new, unused item with absolutely no signs of wear. The item may be missing the original packaging, or in the original packaging but not sealed. The item may be a factory second or a new, unused item with defects. See the seller’s listing for full details and description of any imperfections.\n",
      "\t\t\t\t\t\t\t\t\tSee all condition definitions- opens in a new window or tab\n",
      "\n",
      "\n",
      "11 None\n",
      "12 None\n",
      "13 None\n",
      "14 None\n",
      "15 None\n",
      "16 None\n",
      "17 None\n",
      "18 None\n",
      "19 None\n",
      "20 None\n",
      "21 \n",
      "\t\t\t\t\t\t  \tA new, unused item with absolutely no signs of wear. The item may be missing the original packaging, or in the original packaging but not sealed. The item may be a factory second or a new, unused item with defects. See the seller’s listing for full details and description of any imperfections.\n",
      "\t\t\t\t\t\t\t\t\tSee all condition definitions- opens in a new window or tab\n",
      "\n",
      "\n",
      "22 None\n",
      "23 None\n",
      "24 None\n",
      "25 None\n",
      "26 None\n",
      "27 None\n",
      "28 None\n",
      "29 None\n",
      "30 None\n",
      "31 None\n",
      "32 None\n",
      "33 None\n",
      "34 None\n",
      "35 None\n",
      "36 None\n",
      "37 None\n",
      "38 None\n",
      "39 None\n",
      "40 None\n",
      "41 None\n",
      "42 None\n",
      "43 \n",
      "\t\t\t\t\t\t  \tA new, unused item with absolutely no signs of wear. The item may be missing the original packaging, or in the original packaging but not sealed. The item may be a factory second or a new, unused item with defects. See the seller’s listing for full details and description of any imperfections.\n",
      "\t\t\t\t\t\t\t\t\tSee all condition definitions- opens in a new window or tab\n",
      "\n",
      "\n",
      "44 None\n",
      "45 None\n",
      "46 None\n",
      "47 \n",
      "\t\t\t\t\t\t  \tAn item that has been used previously. The item may have some signs of cosmetic wear, but is fully operational and functions as intended. This item may be a floor model or store return that has been used. See the seller’s listing for full details and description of any imperfections.\n",
      "\t\t\t\t\t\t\t\t\tSee all condition definitions- opens in a new window or tab\n",
      "\n",
      "\n",
      "48 \n",
      "\t\t\t\t\t\t  \tA new, unused item with absolutely no signs of wear. The item may be missing the original packaging, or in the original packaging but not sealed. The item may be a factory second or a new, unused item with defects. See the seller’s listing for full details and description of any imperfections.\n",
      "\t\t\t\t\t\t\t\t\tSee all condition definitions- opens in a new window or tab\n",
      "\n",
      "\n"
     ]
    }
   ],
   "source": [
    "for i, soup_i in enumerate(test_page_soup, start = 1):\n",
    "    try:\n",
    "        print(i, soup_i.find(\"table\", {\"id\": \"itmSellerDesc\"}).find(\"div\", {\"id\": \"itmCondDscOly\"}).get_text())\n",
    "    except:\n",
    "        print(i, \"None\")"
   ]
  },
  {
   "cell_type": "markdown",
   "metadata": {},
   "source": [
    "### Stroller price"
   ]
  },
  {
   "cell_type": "code",
   "execution_count": 27,
   "metadata": {},
   "outputs": [
    {
     "data": {
      "text/plain": [
       "'$119.00'"
      ]
     },
     "execution_count": 27,
     "metadata": {},
     "output_type": "execute_result"
    }
   ],
   "source": [
    "test_page_soup[0].find(\"span\", {\"id\": \"prcIsum\"}).get_text()"
   ]
  },
  {
   "cell_type": "code",
   "execution_count": 29,
   "metadata": {},
   "outputs": [
    {
     "name": "stdout",
     "output_type": "stream",
     "text": [
      "1 \n",
      "\t\t\t\t\t\t\t\t\t\tUS $119.00\n",
      "2 \n",
      "\t\t\t\t\t\t\t\t\t\tUS $289.99\n",
      "3 \n",
      "\t\t\t\t\t\t\t\t\t\tUS $119.00\n",
      "4 US $270.00\n",
      "5 None\n",
      "6 None\n",
      "7 US $65.95\n",
      "8 None\n",
      "9 None\n",
      "10 US $289.99\n",
      "11 None\n",
      "12 None\n",
      "13 US $349.99\n",
      "14 None\n",
      "15 None\n",
      "16 None\n",
      "17 \n",
      "\t\t\t\t\t\t\t\t\t\tUS $199.99\n",
      "18 None\n",
      "19 \n",
      "\t\t\t\t\t\t\t\t\t\tUS $139.99\n",
      "20 None\n",
      "21 \n",
      "\t\t\t\t\t\t\t\t\t\tUS $119.00\n",
      "22 None\n",
      "23 \n",
      "\t\t\t\t\t\t\t\t\t\tUS $169.99\n",
      "24 \n",
      "\t\t\t\t\t\t\t\t\t\tUS $350.00\n",
      "25 None\n",
      "26 None\n",
      "27 \n",
      "\t\t\t\t\t\t\t\t\t\tUS $200.00\n",
      "28 None\n",
      "29 None\n",
      "30 None\n",
      "31 None\n",
      "32 None\n",
      "33 None\n",
      "34 None\n",
      "35 None\n",
      "36 None\n",
      "37 None\n",
      "38 None\n",
      "39 None\n",
      "40 None\n",
      "41 None\n",
      "42 None\n",
      "43 None\n",
      "44 None\n",
      "45 None\n",
      "46 None\n",
      "47 None\n",
      "48 None\n"
     ]
    }
   ],
   "source": [
    "for i, soup_i in enumerate(test_page_soup, start = 1):\n",
    "    try:\n",
    "        print(i, soup_i.find(\"span\", {\"id\": \"prcIsum\"}).get_text())\n",
    "    except:\n",
    "        print(i, \"None\")"
   ]
  },
  {
   "cell_type": "markdown",
   "metadata": {},
   "source": [
    "### Seller ID"
   ]
  },
  {
   "cell_type": "code",
   "execution_count": 33,
   "metadata": {},
   "outputs": [
    {
     "name": "stdout",
     "output_type": "stream",
     "text": [
      "1 one2deals\n",
      "2 truecommerce\n",
      "3 one2deals\n",
      "4 bby-stroller\n",
      "5 None\n",
      "6 None\n",
      "7 toyssale\n",
      "8 None\n",
      "9 None\n",
      "10 truecommerce\n",
      "11 bestseller0388\n",
      "12 a04756149\n",
      "13 truecommerce\n",
      "14 None\n",
      "15 a04756149\n",
      "16 None\n",
      "17 overstockbusiness\n",
      "18 None\n",
      "19 combi15050\n",
      "20 premier.liq-51\n",
      "21 one2deals\n",
      "22 None\n",
      "23 overstockbusiness\n",
      "24 loufey20\n",
      "25 geezerby\n",
      "26 None\n",
      "27 jaymar_3869\n",
      "28 michor_2413\n",
      "29 jocue2191\n",
      "30 elizabetewin4\n",
      "31 camiloo69\n",
      "32 rottamdavidson\n",
      "33 houstonbayou\n",
      "34 None\n",
      "35 georthom5395\n",
      "36 janetend\n",
      "37 bestseller0388\n",
      "38 verybiggestdog\n",
      "39 None\n",
      "40 None\n",
      "41 None\n",
      "42 bestseller0388\n",
      "43 clover-media\n",
      "44 None\n",
      "45 jocue2191\n",
      "46 rottamdavidson\n",
      "47 naritonice\n",
      "48 clover-media\n"
     ]
    }
   ],
   "source": [
    "for i, soup_i in enumerate(test_page_soup, start = 1):\n",
    "    try:\n",
    "        print(i, soup_i.find(\"span\", {\"class\":\"mbg-nw\"}).get_text())\n",
    "    except:\n",
    "        print(i, \"None\")"
   ]
  },
  {
   "cell_type": "markdown",
   "metadata": {},
   "source": [
    "### Stroller sale end date"
   ]
  },
  {
   "cell_type": "code",
   "execution_count": 36,
   "metadata": {},
   "outputs": [
    {
     "name": "stdout",
     "output_type": "stream",
     "text": [
      "1 \r\n",
      "\t\t\tApr 18, 2020\n",
      "\n",
      "15:45:37 PDT\n",
      "\n",
      "\n",
      "2 \r\n",
      "\t\t\tJun 01, 2020\n",
      "\n",
      "12:54:01 PDT\n",
      "\n",
      "\n",
      "3 \r\n",
      "\t\t\tJun 01, 2020\n",
      "\n",
      "14:28:40 PDT\n",
      "\n",
      "\n",
      "4 None\n",
      "5 None\n",
      "6 None\n",
      "7 None\n",
      "8 None\n",
      "9 None\n",
      "10 None\n",
      "11 \r\n",
      "\t\t\tMay 29, 2020\n",
      "\n",
      "13:34:53 PDT\n",
      "\n",
      "\n",
      "12 \r\n",
      "\t\t\tMar 21, 2020\n",
      "\n",
      "18:14:34 PDT\n",
      "\n",
      "\n",
      "13 None\n",
      "14 None\n",
      "15 \r\n",
      "\t\t\tMar 18, 2020\n",
      "\n",
      "17:00:20 PDT\n",
      "\n",
      "\n",
      "16 None\n",
      "17 \r\n",
      "\t\t\tMay 06, 2020\n",
      "\n",
      "17:49:39 PDT\n",
      "\n",
      "\n",
      "18 None\n",
      "19 \r\n",
      "\t\t\tApr 23, 2020\n",
      "\n",
      "07:28:54 PDT\n",
      "\n",
      "\n",
      "20 \r\n",
      "\t\t\tJun 01, 2020\n",
      "\n",
      "10:42:05 PDT\n",
      "\n",
      "\n",
      "21 \r\n",
      "\t\t\tMar 17, 2020\n",
      "\n",
      "11:55:34 PDT\n",
      "\n",
      "\n",
      "22 None\n",
      "23 \r\n",
      "\t\t\tApr 09, 2020\n",
      "\n",
      "08:17:33 PDT\n",
      "\n",
      "\n",
      "24 \r\n",
      "\t\t\tMay 31, 2020\n",
      "\n",
      "21:04:51 PDT\n",
      "\n",
      "\n",
      "25 \r\n",
      "\t\t\tMay 28, 2020\n",
      "\n",
      "16:17:52 PDT\n",
      "\n",
      "\n",
      "26 None\n",
      "27 \r\n",
      "\t\t\tApr 26, 2020\n",
      "\n",
      "17:02:41 PDT\n",
      "\n",
      "\n",
      "28 \r\n",
      "\t\t\tMay 29, 2020\n",
      "\n",
      "17:19:15 PDT\n",
      "\n",
      "\n",
      "29 \r\n",
      "\t\t\tMay 11, 2020\n",
      "\n",
      "23:58:30 PDT\n",
      "\n",
      "\n",
      "30 \r\n",
      "\t\t\tMay 24, 2020\n",
      "\n",
      "22:01:49 PDT\n",
      "\n",
      "\n",
      "31 \r\n",
      "\t\t\tJun 01, 2020\n",
      "\n",
      "13:44:22 PDT\n",
      "\n",
      "\n",
      "32 \r\n",
      "\t\t\tMay 17, 2020\n",
      "\n",
      "15:46:57 PDT\n",
      "\n",
      "\n",
      "33 \r\n",
      "\t\t\tMay 28, 2020\n",
      "\n",
      "19:06:13 PDT\n",
      "\n",
      "\n",
      "34 None\n",
      "35 \r\n",
      "\t\t\tMay 31, 2020\n",
      "\n",
      "12:06:05 PDT\n",
      "\n",
      "\n",
      "36 \r\n",
      "\t\t\tMay 24, 2020\n",
      "\n",
      "12:00:25 PDT\n",
      "\n",
      "\n",
      "37 \r\n",
      "\t\t\tMay 27, 2020\n",
      "\n",
      "12:37:34 PDT\n",
      "\n",
      "\n",
      "38 \r\n",
      "\t\t\tMay 24, 2020\n",
      "\n",
      "19:17:46 PDT\n",
      "\n",
      "\n",
      "39 None\n",
      "40 None\n",
      "41 None\n",
      "42 \r\n",
      "\t\t\tMay 28, 2020\n",
      "\n",
      "13:31:27 PDT\n",
      "\n",
      "\n",
      "43 \r\n",
      "\t\t\tMay 16, 2020\n",
      "\n",
      "12:40:06 PDT\n",
      "\n",
      "\n",
      "44 None\n",
      "45 \r\n",
      "\t\t\tMay 25, 2020\n",
      "\n",
      "09:03:47 PDT\n",
      "\n",
      "\n",
      "46 \r\n",
      "\t\t\tMay 10, 2020\n",
      "\n",
      "07:54:24 PDT\n",
      "\n",
      "\n",
      "47 \r\n",
      "\t\t\tMay 11, 2020\n",
      "\n",
      "08:42:45 PDT\n",
      "\n",
      "\n",
      "48 \r\n",
      "\t\t\tMay 17, 2020\n",
      "\n",
      "12:40:57 PDT\n",
      "\n",
      "\n"
     ]
    }
   ],
   "source": [
    "for i, soup_i in enumerate(test_page_soup, start = 1):\n",
    "    try:\n",
    "        print(i, soup_i.find(\"span\", {\"id\":\"bb_tlft\"}).get_text())\n",
    "    except:\n",
    "        print(i, \"None\")"
   ]
  },
  {
   "cell_type": "markdown",
   "metadata": {},
   "source": [
    "### Stroller delivery option"
   ]
  },
  {
   "cell_type": "code",
   "execution_count": 42,
   "metadata": {},
   "outputs": [
    {
     "name": "stdout",
     "output_type": "stream",
     "text": [
      "1 \n",
      "FREE\n",
      "\n",
      "2 \n",
      "FREE\n",
      "\n",
      "3 \n",
      "FREE\n",
      "\n",
      "4 \n",
      "FREE\n",
      "\n",
      "5 None\n",
      "6 None\n",
      "7 \n",
      "FREE\n",
      "\n",
      "8 None\n",
      "9 None\n",
      "10 \n",
      "FREE\n",
      "\n",
      "11 \n",
      "FREE\n",
      "\n",
      "12 \n",
      "$15.00\n",
      "\n",
      "13 \n",
      "FREE\n",
      "\n",
      "14 None\n",
      "15 \n",
      "$15.00\n",
      "\n",
      "16 None\n",
      "17 \n",
      "FREE\n",
      "\n",
      "18 None\n",
      "19 None\n",
      "20 \n",
      "$20.00\n",
      "\n",
      "21 \n",
      "FREE\n",
      "\n",
      "22 None\n",
      "23 \n",
      "FREE\n",
      "\n",
      "24 None\n",
      "25 \n",
      "$25.00\n",
      "\n",
      "26 None\n",
      "27 None\n",
      "28 \n",
      "FREE\n",
      "\n",
      "29 \n",
      "$25.00\n",
      "\n",
      "30 None\n",
      "31 None\n",
      "32 None\n",
      "33 \n",
      "FREE\n",
      "\n",
      "34 None\n",
      "35 None\n",
      "36 None\n",
      "37 \n",
      "$20.00\n",
      "\n",
      "38 None\n",
      "39 None\n",
      "40 None\n",
      "41 None\n",
      "42 \n",
      "$20.00\n",
      "\n",
      "43 \n",
      "FREE\n",
      "\n",
      "44 None\n",
      "45 None\n",
      "46 None\n",
      "47 \n",
      "$39.99\n",
      "\n",
      "48 \n",
      "FREE\n",
      "\n"
     ]
    }
   ],
   "source": [
    "for i, soup_i in enumerate(test_page_soup, start = 1):\n",
    "    try:\n",
    "        print(i, soup_i.find(\"span\", {\"id\": \"fshippingCost\"}).get_text())\n",
    "    except:\n",
    "        print(i, \"None\")"
   ]
  },
  {
   "cell_type": "code",
   "execution_count": 44,
   "metadata": {},
   "outputs": [
    {
     "name": "stdout",
     "output_type": "stream",
     "text": [
      "1 \n",
      "\t\t\t\tStandard Shipping\n",
      "\n",
      "2 \n",
      "\t\t\t\tExpedited Shipping\n",
      "\n",
      "3 \n",
      "\t\t\t\tStandard Shipping\n",
      "\n",
      "4 \n",
      "\t\t\t\tStandard Shipping\n",
      "\n",
      "5 None\n",
      "6 None\n",
      "7 \n",
      "\t\t\t\tStandard Shipping\n",
      "\n",
      "8 None\n",
      "9 None\n",
      "10 \n",
      "\t\t\t\tExpedited Shipping\n",
      "\n",
      "11 \n",
      "\t\t\t\tStandard Shipping\n",
      "\n",
      "12 \n",
      "\t\t\t\tExpedited Shipping\n",
      "\n",
      "13 \n",
      "\t\t\t\tExpedited Shipping\n",
      "\n",
      "14 None\n",
      "15 \n",
      "\t\t\t\tExpedited Shipping\n",
      "\n",
      "16 None\n",
      "17 \n",
      "\t\t\t\tStandard Shipping\n",
      "\n",
      "18 None\n",
      "19 None\n",
      "20 \n",
      "\t\t\t\tExpedited Shipping\n",
      "\n",
      "21 \n",
      "\t\t\t\tStandard Shipping\n",
      "\n",
      "22 None\n",
      "23 \n",
      "\t\t\t\tStandard Shipping\n",
      "\n",
      "24 None\n",
      "25 \n",
      "\t\t\t\tExpedited Shipping\n",
      "\n",
      "26 None\n",
      "27 None\n",
      "28 \n",
      "\t\t\t\tEconomy Shipping\n",
      "\n",
      "29 \n",
      "\t\t\t\tStandard Shipping\n",
      "\n",
      "30 \n",
      "Free Local Pickup\n",
      "\n",
      "31 \n",
      "Free Local Pickup\n",
      "\n",
      "32 \n",
      "Free Local Pickup\n",
      "\n",
      "33 \n",
      "\t\t\t\tStandard Shipping\n",
      "\n",
      "34 None\n",
      "35 \n",
      "Free Local Pickup\n",
      "\n",
      "36 None\n",
      "37 \n",
      "\t\t\t\tStandard Shipping\n",
      "\n",
      "38 \n",
      "\t\t\t\tLocal pick-up offered.\n",
      "39 None\n",
      "40 None\n",
      "41 None\n",
      "42 \n",
      "\t\t\t\tStandard Shipping\n",
      "\n",
      "43 \n",
      "\t\t\t\tStandard Shipping\n",
      "\n",
      "44 None\n",
      "45 None\n",
      "46 \n",
      "Free Local Pickup\n",
      "\n",
      "47 \n",
      "\t\t\t\tEconomy Shipping\n",
      "\n",
      "48 \n",
      "\t\t\t\tStandard Shipping\n",
      "\n"
     ]
    }
   ],
   "source": [
    "for i, soup_i in enumerate(test_page_soup, start = 1):\n",
    "    try:\n",
    "        print(i, soup_i.find(\"span\", {\"id\": \"fShippingSvc\"}).get_text())\n",
    "    except:\n",
    "        print(i, \"None\")"
   ]
  },
  {
   "cell_type": "markdown",
   "metadata": {},
   "source": [
    "### Stroller attribute 1"
   ]
  },
  {
   "cell_type": "code",
   "execution_count": 58,
   "metadata": {},
   "outputs": [
    {
     "data": {
      "text/plain": [
       "'https://www.ebay.com/itm/Keenz-Wagon-7s-Stroller-Color-Blue-refurbished-Certificate/254608963167?hash=item3b47e0765f:g:Km4AAOSw1aNeuVEi'"
      ]
     },
     "execution_count": 58,
     "metadata": {},
     "output_type": "execute_result"
    }
   ],
   "source": [
    "test_page_urls[1]"
   ]
  },
  {
   "cell_type": "code",
   "execution_count": 81,
   "metadata": {},
   "outputs": [],
   "source": [
    "def get_item_specifics(soup):\n",
    "    # item specifics table html\n",
    "    item_specifics_html = soup.find(\"div\", {\"class\": \"section\"}).find_all(\"tr\")"
   ]
  },
  {
   "cell_type": "code",
   "execution_count": 109,
   "metadata": {},
   "outputs": [
    {
     "data": {
      "text/plain": [
       "[<tr>\n",
       " <td class=\"attrLabels\">\n",
       " \t\t\t\t\t\t\t\t\t \t\t\tCondition:</td>\n",
       " <td width=\"50.0%\">\n",
       " <!-- ITEM CONDITION  -->\n",
       " <!-- If Attribute is having hidden text / link\t -->\n",
       " <div aria-live=\"polite\">\n",
       " \t\t\t\t\t\t\t\t\t\t\t\t\t\t\t\n",
       " \t\t\t\t\t\t\t\t\t\t\t\t\t\t\t\n",
       " \t\t\t\t\t\t\t\t\t\t\t\t\t\t\t\tNew: <span id=\"vi-cond-addl-info\">A brand-new, unused, unopened, undamaged item in its original packaging (where packaging is </span>\n",
       " <span aria-expanded=\"false\" class=\"u-dspn\" id=\"hiddenContent\">\n",
       " \t\t\t\t\t\t\t\t\t\t\t\t\t\t\t\t\t\t\tapplicable). Packaging should be the same as what is found in a retail store, unless the item is handmade or was packaged by the manufacturer in non-retail packaging, such as an unprinted box or plastic bag. See the seller's listing for full details.<a class=\"infoLink u-nowrap\" href=\"https://pages.ebay.com/help/sell/contextual/condition_11.html\" target=\"_blank\">\n",
       " \t\t\t\t\t\t\t\t\t\t\t\t\t\t\t\t\t\t\t\t\tSee all condition definitions<b class=\"g-hdn\">- opens in a new window or tab</b></a>\n",
       " </span>\n",
       " <!-- TODO: remove hardcoded ID -->\n",
       " <span class=\"infoLink u-nowrap\" id=\"readFull\">\n",
       " \t\t\t\t\t\t\t\t\t\t\t\t\t\t\t\t\t\t\t... <a href=\"javascript:;\">Read more<b class=\"g-hdn\">about the condition</b></a>\n",
       " </span>\n",
       " </div>\n",
       " <!-- </td> -->\n",
       " </td>\n",
       " <td class=\"attrLabels\">\n",
       " \t\t\t\t\t\t\t\t\t \t\t\tGender: </td>\n",
       " <td width=\"50.0%\">\n",
       " <span>Unisex</span></td>\n",
       " </tr>,\n",
       " <tr>\n",
       " <td class=\"attrLabels\">\n",
       " \t\t\t\t\t\t\t\t\t \t\t\tAge: </td>\n",
       " <td width=\"50.0%\">\n",
       " <span>Infant, Toddler</span></td>\n",
       " <td class=\"attrLabels\">\n",
       " \t\t\t\t\t\t\t\t\t \t\t\tColor: </td>\n",
       " <td width=\"50.0%\">\n",
       " <h2 itemprop=\"color\">Black</h2></td>\n",
       " </tr>,\n",
       " <tr>\n",
       " <td class=\"attrLabels\">\n",
       " \t\t\t\t\t\t\t\t\t \t\t\tBrand: </td>\n",
       " <td width=\"50.0%\">\n",
       " <h2 itemprop=\"brand\" itemscope=\"itemscope\" itemtype=\"http://schema.org/Brand\"><span itemprop=\"name\">Unbranded</span></h2></td>\n",
       " <td class=\"attrLabels\">\n",
       " \t\t\t\t\t\t\t\t\t \t\t\tMPN: </td>\n",
       " <td width=\"50.0%\">\n",
       " <h2 itemprop=\"mpn\">Does Not Apply</h2></td>\n",
       " </tr>,\n",
       " <tr>\n",
       " <td class=\"attrLabels\">\n",
       " \t\t\t\t\t\t\t\t\t \t\t\tTheme: </td>\n",
       " <td width=\"50.0%\">\n",
       " <span>Holiday</span></td>\n",
       " <td class=\"attrLabels\">\n",
       " \t\t\t\t\t\t\t\t\t \t\t\tCountry/Region of Manufacture: </td>\n",
       " <td width=\"50.0%\">\n",
       " <span>China</span></td>\n",
       " </tr>,\n",
       " <tr>\n",
       " <td class=\"attrLabels\">\n",
       " \t\t\t\t\t\t\t\t\t \t\t\tType: </td>\n",
       " <td width=\"50.0%\">\n",
       " <span>Stroller Car Seat</span></td>\n",
       " <td class=\"attrLabels\">\n",
       " \t\t\t\t\t\t\t\t\t \t\t\tSeating Capacity: </td>\n",
       " <td width=\"50.0%\">\n",
       " <span>Single</span></td>\n",
       " </tr>,\n",
       " <tr>\n",
       " <td class=\"attrLabels\">\n",
       " \t\t\t\t\t\t\t\t\t \t\t\tFeatures: </td>\n",
       " <td width=\"50.0%\">\n",
       " <span>4 in 1, Basket, Bassinet/Carrycot, Folding, Lightweight Buggy</span></td>\n",
       " </tr>]"
      ]
     },
     "execution_count": 109,
     "metadata": {},
     "output_type": "execute_result"
    }
   ],
   "source": [
    "test_page_soup[3].find(\"div\", {\"class\": \"section\"}).find_all(\"tr\")"
   ]
  },
  {
   "cell_type": "code",
   "execution_count": 110,
   "metadata": {},
   "outputs": [
    {
     "name": "stdout",
     "output_type": "stream",
     "text": [
      "Condition:\n",
      "Age:\n",
      "Brand:\n",
      "Theme:\n",
      "Type:\n",
      "Features:\n"
     ]
    }
   ],
   "source": [
    "for i in test_page_soup[3].find(\"div\", {\"class\": \"section\"}).find_all(\"tr\"):\n",
    "    try:\n",
    "        print(i.find(\"td\", class_ = \"attrLabels\").text.strip())\n",
    "    except:\n",
    "        print(\"None\")"
   ]
  },
  {
   "cell_type": "code",
   "execution_count": 63,
   "metadata": {},
   "outputs": [
    {
     "name": "stdout",
     "output_type": "stream",
     "text": [
      "\n",
      "\t\t\t\t\t\t\t\t\t \t\t\tModel: \n",
      "\n",
      "\t\t\t\t\t\t\t\t\t \t\t\tMPN: \n",
      "\n",
      "\t\t\t\t\t\t\t\t\t \t\t\tColor: \n",
      "\n",
      "\t\t\t\t\t\t\t\t\t \t\t\tBrand: \n",
      "\n",
      "\t\t\t\t\t\t\t\t\t \t\t\tUPC: \n"
     ]
    }
   ],
   "source": [
    "for td in test_page_soup[1].find_all(\"td\", {\"class\":\"attrLabels\"}):\n",
    "    print(td.get_text())"
   ]
  },
  {
   "cell_type": "code",
   "execution_count": 213,
   "metadata": {},
   "outputs": [
    {
     "name": "stdout",
     "output_type": "stream",
     "text": [
      "Brand: Cynebaby\n",
      "Color: Blue\n",
      "Brand: Cynebaby\n",
      "Color: Black\n",
      "Brand: Unbranded\n",
      "Brand: VEVOR\n",
      "Brand: Chicco\n",
      "Color: Black\n",
      "Brand: Combi\n",
      "Color: Black\n",
      "Brand: Cybex\n",
      "Features: Hood/Canopy\n",
      "Brand: Cynebaby\n",
      "Brand: Evenflo\n",
      "Brand: Cybex\n",
      "Brand: Nuna\n",
      "Brand: Unbranded\n",
      "Brand: Combi\n",
      "Brand: GB\n",
      "Brand: Stokke\n",
      "Brand: Cynebaby\n",
      "Brand: Evenflo\n",
      "Brand: Cybex\n",
      "Brand: Evenflo\n",
      "Brand: Doona\n",
      "Brand: Baby Trend\n",
      "Brand: Bugaboo\n",
      "Brand: BOB\n",
      "Brand: Doona\n",
      "Brand: GB\n",
      "Brand: Nuna\n",
      "Brand: Safety 1st\n",
      "Brand: Baby Jogger\n",
      "Brand: Bugaboo\n",
      "Brand: Baby Trend\n",
      "Color: Blue\n",
      "Type: Travel System\n",
      "Brand: Bugaboo\n",
      "Brand: Baby Jogger\n",
      "Brand: UPPAbaby\n",
      "Brand: Nuna\n",
      "Brand: GB\n",
      "Brand: Doona\n",
      "Brand: Baby Trend\n",
      "Type: Travel System\n",
      "Brand: Baby Trend\n",
      "Color: Brown\n",
      "Brand: Bugaboo\n"
     ]
    }
   ],
   "source": [
    "for item_i in test_soup.find_all(name = \"li\", class_ = \"s-item\"):\n",
    "    try:\n",
    "        print(item_i.find(name = \"span\", class_ = \"s-item__dynamic s-item__dynamicAttributes1\").get_text())\n",
    "    except:\n",
    "        print(\"None\")"
   ]
  },
  {
   "cell_type": "markdown",
   "metadata": {},
   "source": [
    "### Stroller attribute 2"
   ]
  },
  {
   "cell_type": "code",
   "execution_count": 214,
   "metadata": {},
   "outputs": [
    {
     "name": "stdout",
     "output_type": "stream",
     "text": [
      "Type: Carriage\n",
      "Model: Keenz 7S\n",
      "Type: Carriage\n",
      "Model: Keenz 7S\n",
      "Type: Stroller Seat\n",
      "Type: Buggy\n",
      "Type: Travel System\n",
      "Model: Keenz 7S\n",
      "Type: Travel System\n",
      "Model: Keenz 7S\n",
      "Type: Stroller Seat\n",
      "Color: Blue\n",
      "Type: Pushchair\n",
      "Type: Travel System\n",
      "Color: Blue\n",
      "Type: Stroller Seat\n",
      "Type: Pushchair\n",
      "Type: Travel System\n",
      "Color: Black\n",
      "Color: Black\n",
      "Type: Carriage\n",
      "Type: Travel System\n",
      "Features: Adjustable Handles\n",
      "Type: Travel System\n",
      "None\n",
      "Type: Travel System\n",
      "Type: Travel System\n",
      "Type: Stroller Seat\n",
      "Type: Stroller Seat\n",
      "Color: Black\n",
      "None\n",
      "Type: Travel System\n",
      "Type: Stroller Frame\n",
      "Type: Travel System\n",
      "Type: Jogger\n",
      "Model: UPPAbaby CRUZ\n",
      "None\n",
      "Type: Travel System\n",
      "Type: Jogger\n",
      "Features: Adjustable Handles\n",
      "Type: Stroller Seat\n",
      "Type: Travel System\n",
      "Color: Green\n",
      "Type: Jogger\n",
      "None\n",
      "Type: Traditional & Combination\n",
      "None\n",
      "Color: Blue\n"
     ]
    }
   ],
   "source": [
    "for item_i in test_soup.find_all(name = \"li\", class_ = \"s-item\"):\n",
    "    try:\n",
    "        print(item_i.find(name = \"span\", class_ = \"s-item__dynamic s-item__dynamicAttributes2\").get_text())\n",
    "    except:\n",
    "        print(\"None\")"
   ]
  },
  {
   "cell_type": "markdown",
   "metadata": {},
   "source": [
    "### Stroller attribute 3"
   ]
  },
  {
   "cell_type": "code",
   "execution_count": 215,
   "metadata": {},
   "outputs": [
    {
     "name": "stdout",
     "output_type": "stream",
     "text": [
      "Age: Infant\n",
      "None\n",
      "Color: Beige\n",
      "None\n",
      "Features: Basket\n",
      "Color: Gold\n",
      "None\n",
      "None\n",
      "Features: Adjustable Back Rest\n",
      "None\n",
      "Features: Forward/Rear Facing\n",
      "Model: Keenz 7S\n",
      "Features: Reversible\n",
      "Age: Infant\n",
      "Model: Cybex Priam\n",
      "None\n",
      "Color: Gray\n",
      "Features: Five-point Harness\n",
      "Model: gb Pockit\n",
      "Model: Xplory\n",
      "Color: Beige\n",
      "Features: Adjustable Handles\n",
      "Color: Black\n",
      "Age: Infant\n",
      "None\n",
      "Model: Shopper\n",
      "Color: Blue\n",
      "Features: Basket\n",
      "Age: Infant\n",
      "Model: gb Pockit\n",
      "None\n",
      "Features: Adjustable Back Rest\n",
      "Color: Red\n",
      "Color: Blue\n",
      "Features: Folding\n",
      "None\n",
      "None\n",
      "Color: Blue\n",
      "Color: Purple\n",
      "Color: Black\n",
      "None\n",
      "Features: Travel System Compatible\n",
      "Age: Infant\n",
      "Features: Folding\n",
      "None\n",
      "Features: Cup Holder\n",
      "None\n",
      "Model: Donkey\n"
     ]
    }
   ],
   "source": [
    "for item_i in test_soup.find_all(name = \"li\", class_ = \"s-item\"):\n",
    "    try:\n",
    "        print(item_i.find(name = \"span\", class_ = \"s-item__dynamic s-item__dynamicAttributes3\").get_text())\n",
    "    except:\n",
    "        print(\"None\")"
   ]
  },
  {
   "cell_type": "markdown",
   "metadata": {},
   "source": [
    "## Stroller brands"
   ]
  },
  {
   "cell_type": "code",
   "execution_count": 115,
   "metadata": {},
   "outputs": [],
   "source": [
    "stroller_brands = [\"4moms\", \"ABC Design\", \"Aprica\", \"Austlen\", \"Babies\"R\"Us\", \"Babyhome\", \"Baby Jogger\", \"Baby King\", \"Baby Planet\", \"Baby Trend\", \"BABYZEN\", \"bebe Love\", \"Belecoo\", \"Besrey\", \"Bloom\", \"BOB\", \"Britax\", \"Britax Römer\", \"Bugaboo\", \"Bumbleride\", \"Burley\", \"Chariot\", \"Chicco\", \"Childcare\", \"Child Craft\", \"Combi\", \"Contours\", \"Cosatto\", \"Cosco\", \"Costway\", \"Crown\", \"Cybex\", \"Cynebaby\", \"Delta Children\", \"diono\", \"Disney\", \"Doona\", \"Dreamer Design\", \"Dream On Me\", \"Eddie Bauer\", \"Emmaljunga\", \"Englacha\", \"Ergobaby\", \"Evenflo\", \"Fendi\", \"Ferrari\", \"First Steps\", \"Foundations\", \"GB\", \"Giantex\", \"Goodbaby\", \"GoPlus\", \"Graco\", \"Handmade\", \"hauck\", \"Hot Mom\", \"iCandy\", \"Inglesina\", \"InSTEP\", \"Jane\", \"Jeep\", \"Joolz\", \"Joovy\", \"Kelty\", \"KidsEmbrace\", \"Kolcraft\", \"Kool-Stop\", \"Kool Stride\", \"Lamaze\", \"Lascal\", \"Little Tikes\", \"Maclaren\", \"mamas & papas\", \"Maxi-Cosi\", \"Micralite\", \"Mima\", \"Mothercare\", \"Mountain Buggy\", \"Nuna\", \"Orbit\", \"Orbit Baby\", \"Out n About\", \"OXO\", \"Oyster\", \"Peg Perego\", \"phil&teds\", \"QuickSmart\", \"Quinny\", \"RECARO\", \"RunAbout\", \"Safeplus\", \"Safety 1st\", \"Schwinn\", \"Silver Cross\", \"Simplicity\", \"Stokke\", \"StrollAir\", \"Summer Infant\", \"Tako\"\", Target\", \"teutonia\", \"Thule\", \"Tike Tech\", \"Unbranded\", \"UPPAbaby\", \"Urbini\", \"Valco\", \"VEVOR\", \"Not Specified\"]"
   ]
  },
  {
   "cell_type": "markdown",
   "metadata": {},
   "source": [
    "## Stroller seating capacities"
   ]
  },
  {
   "cell_type": "code",
   "execution_count": 116,
   "metadata": {},
   "outputs": [],
   "source": [
    "seating_capacities = [\"Single\", \"Double\", \"Triple\", \"Quad & More\", \"Not Specified\"]"
   ]
  },
  {
   "cell_type": "markdown",
   "metadata": {},
   "source": [
    "## Stroller types"
   ]
  },
  {
   "cell_type": "code",
   "execution_count": 117,
   "metadata": {},
   "outputs": [],
   "source": [
    "stroller_types = [\"Buggy\", \"Carriage\", \"Jogger\", \"Lightweight, Umbrella\", \"Pull-Along Wagon\", \"Pushchair\", \"Stroller Frame\", \"Stroller Seat\", \"Traditional & Combination\", \"Travel System\", \"Tricycle Stroller\", \"Not Specified\"]"
   ]
  },
  {
   "cell_type": "markdown",
   "metadata": {},
   "source": [
    "## Stroller meant for which baby ages"
   ]
  },
  {
   "cell_type": "code",
   "execution_count": 118,
   "metadata": {},
   "outputs": [],
   "source": [
    "baby_ages = [\"Infant\", \"Toddler\", \"Not Specified\"]"
   ]
  },
  {
   "cell_type": "markdown",
   "metadata": {},
   "source": [
    "## Stroller colors"
   ]
  },
  {
   "cell_type": "code",
   "execution_count": 119,
   "metadata": {},
   "outputs": [],
   "source": [
    "stroller_colors = [\"Beige\", \"Black\", \"Blue\", \"Brown\", \"Clear\", \"Gold\", \"Gray\", \"Green\", \"Multicolor\", \"Orange\", \"Pink\", \"Purple\", \"Red\", \"Silver\", \"White\", \"Yellow\", \"Not Specified\"]"
   ]
  },
  {
   "cell_type": "markdown",
   "metadata": {},
   "source": [
    "## Stroller features"
   ]
  },
  {
   "cell_type": "code",
   "execution_count": 120,
   "metadata": {},
   "outputs": [],
   "source": [
    "stroller_features = [\"3 in 1\", \"3-Wheel\", \"Adjustable Back Rest\", \"Adjustable Handles\", \"Adjustable Leg Rest\", \"All Terrain\", \"Auto-Locking\", \"Basket\", \"Bassinet/Carrycot\", \"Built-In Speakers\", \"Carry Handle\", \"Car Seat Alarm\", \"Cup Holder\", \"Five-point Harness\", \"Folding\", \"Footmuff\", \"Forward/Rear Facing\", \"Hand Brake\", \"Hanging Bag\", \"Hood/Canopy\", \"Insect Cover\", \"Integrated Brake System\", \"Leather Covers\", \"Lightweight Buggy\", \"Lockable Swivel Wheels\", \"One-Hand Push\", \"Rain Cover\", \"Reversible\", \"Special Needs\", \"Travel System Compatible\", \"Umbrella/Parasol\", \"Not Specified\"]"
   ]
  },
  {
   "cell_type": "markdown",
   "metadata": {},
   "source": [
    "## Stroller wheel types"
   ]
  },
  {
   "cell_type": "code",
   "execution_count": 121,
   "metadata": {},
   "outputs": [],
   "source": [
    "wheel_types = [\"Air Filled Tires\", \"Air Wheel Tires with Sealed Ball Bearings\", \"Pneumatic Tires\", \"Rubber Tires\", \"Not Specified\"]"
   ]
  },
  {
   "cell_type": "markdown",
   "metadata": {},
   "source": [
    "## Stroller model"
   ]
  },
  {
   "cell_type": "code",
   "execution_count": 122,
   "metadata": {},
   "outputs": [],
   "source": [
    "stroller_models = [\"360\", \"Baby Jogger City Mini\", \"Baby Jogger City Mini GT\", \"Baby Jogger City Mini GT Double\", \"Baby Jogger City Select\", \"Baby Trend Expedition Jogger Stroller\", \"BABYZEN YOYO+\", \"Bee\", \"BOB Revolution Flex 2.0\", \"BOB Revolution PRO\", \"Britax B-Dual\", \"Britax B-Ready\", \"Bugaboo Buffalo\", \"Bugaboo Frog\", \"Bumbleride Indie Twin\", \"Caboose\", \"Cameleon\", \"Chicco BravoFor2\", \"Combi Cosmo\", \"Contours Options\", \"Cybex Priam\", \"Donkey\", \"Evenflo EPIC\", \"Flip\", \"Freerider\", \"G3\", \"gb Pockit\", \"Graco LiteRider LX\", \"Graco RoadMaster\", \"Keenz 7S\", \"Kensington\", \"Malibu\", \"MB30\", \"Mountain Buggy Duet\", \"My Babiie MB200\", \"Nitro\", \"Pace Click Connect\", \"Peg Perego Book Pop-Up\", \"phil&teds Dot\", \"Safety 1st Smooth Ride\", \"Shopper\", \"Silver Cross Wave\", \"Silver Cross Wayfarer\", \"Stokke Crusi\", \"Strawberry\", \"Summer 3Dmini\", \"UPPAbaby CRUZ\", \"UPPAbaby VISTA\", \"Urbini Omni Plus\", \"V3\", \"Verb Click Connect\", \"Xplory\", \"Not Specified\"]"
   ]
  },
  {
   "cell_type": "markdown",
   "metadata": {},
   "source": [
    "## Stroller product line"
   ]
  },
  {
   "cell_type": "code",
   "execution_count": 123,
   "metadata": {},
   "outputs": [],
   "source": [
    "product_lines = [\"Baby Jogger City Mini\", \"Baby Jogger City Select\", \"Babyzen Yoyo\", \"BOB Revolution\", \"Bugaboo Cameleon\", \"Graco Modes\", \"Graco UNO2DUO\", \"McLaren Quest\", \"Mima Xari\", \"Mima Zigi\", \"Nuna MIXX\", \"Quinny Zapp Flex\", \"Quinny Zapp Xtra\", \"Thule Urban Glide\", \"Uppababy Vista\", \"Not Specified\"]"
   ]
  },
  {
   "cell_type": "markdown",
   "metadata": {},
   "source": [
    "## Stroller conditions"
   ]
  },
  {
   "cell_type": "code",
   "execution_count": 124,
   "metadata": {},
   "outputs": [],
   "source": [
    "stroller_conditions = [\"New\",\"New other (see details)\",\"Used\",\"For parts or not working\"]"
   ]
  },
  {
   "cell_type": "markdown",
   "metadata": {},
   "source": [
    "## Stroller listing types"
   ]
  },
  {
   "cell_type": "code",
   "execution_count": 125,
   "metadata": {},
   "outputs": [],
   "source": [
    "listing_types = [\"All Listings\", \"Best Offer\", \"Auction\", \"Buy It Now\"]"
   ]
  },
  {
   "cell_type": "markdown",
   "metadata": {},
   "source": [
    "## Stroller location"
   ]
  },
  {
   "cell_type": "code",
   "execution_count": 126,
   "metadata": {},
   "outputs": [],
   "source": [
    "stroller_locations = [\"Default\", \"US Only\", \"North America\", \"Worldwide\"]"
   ]
  },
  {
   "cell_type": "markdown",
   "metadata": {},
   "source": [
    "## Stroller delivery options"
   ]
  },
  {
   "cell_type": "code",
   "execution_count": 127,
   "metadata": {},
   "outputs": [],
   "source": [
    "delivery_options = [\"Free Shipping\", \"Free In-store Pickup\"]"
   ]
  },
  {
   "cell_type": "markdown",
   "metadata": {},
   "source": [
    "# Web scraping real"
   ]
  },
  {
   "cell_type": "markdown",
   "metadata": {},
   "source": [
    "## URL for sold strollers results (page 1)"
   ]
  },
  {
   "cell_type": "code",
   "execution_count": 128,
   "metadata": {},
   "outputs": [],
   "source": [
    "sold_strollers_url = \"https://www.ebay.com/b/Strollers/66700/bn_1865261?rt=nc&LH_Sold=1\""
   ]
  },
  {
   "cell_type": "markdown",
   "metadata": {},
   "source": [
    "## HTML"
   ]
  },
  {
   "cell_type": "code",
   "execution_count": 129,
   "metadata": {},
   "outputs": [],
   "source": [
    "sold_strollers_html = requests.get(sold_strollers_url)"
   ]
  },
  {
   "cell_type": "markdown",
   "metadata": {},
   "source": [
    "## Soup"
   ]
  },
  {
   "cell_type": "code",
   "execution_count": 130,
   "metadata": {},
   "outputs": [],
   "source": [
    "sold_strollers_soup = BeautifulSoup(sold_strollers_html.text, \"html.parser\")"
   ]
  },
  {
   "cell_type": "markdown",
   "metadata": {},
   "source": [
    "## Number of pages and results"
   ]
  },
  {
   "cell_type": "code",
   "execution_count": 131,
   "metadata": {},
   "outputs": [
    {
     "name": "stdout",
     "output_type": "stream",
     "text": [
      "1-48 of 6,541 Results\n"
     ]
    }
   ],
   "source": [
    "# text from results displayed at top of page\n",
    "results_text = sold_strollers_soup.find(name = \"h2\", attrs = {\"class\": \"srp-controls__count-heading\"}).get_text()\n",
    "\n",
    "print(results_text)\n",
    "\n",
    "# pages\n",
    "n_pages = int(results_text.replace(\",\", \"\").replace(\"-\", \" \").split()[1])\n",
    "\n",
    "# results\n",
    "n_results = int(results_text.replace(\",\", \"\").replace(\"-\", \" \").split()[3])"
   ]
  },
  {
   "cell_type": "markdown",
   "metadata": {},
   "source": [
    "## Get result page soup from all results pages"
   ]
  },
  {
   "cell_type": "code",
   "execution_count": 137,
   "metadata": {},
   "outputs": [],
   "source": [
    "# will hold soup from each page of results\n",
    "result_pages = []\n",
    "\n",
    "# 3 steps (1 - number of pages)\n",
    "for page_i in np.arange(n_pages) + 1:\n",
    "    # url\n",
    "    url_i = \"https://www.ebay.com/b/Strollers/66700/bn_1865261?rt=nc&LH_Sold=\" + str(page_i)\n",
    "    \n",
    "    # html/response\n",
    "    html_i = requests.get(url_i)\n",
    "    \n",
    "    # add random sleep time between 1 and 10 seconds\n",
    "    time.sleep(np.random.randint(low = 1, high = 5, size = 1))\n",
    "    \n",
    "    # soup\n",
    "    soup_i = BeautifulSoup(html_i.text, \"html.parser\")\n",
    "    \n",
    "    # append to container\n",
    "    result_pages.append(soup_i)\n",
    "    \n",
    "    # results\n",
    "    print(\"Made soup from page {}.\".format(page_i))"
   ]
  }
 ],
 "metadata": {
  "kernelspec": {
   "display_name": "Python 3",
   "language": "python",
   "name": "python3"
  },
  "language_info": {
   "codemirror_mode": {
    "name": "ipython",
    "version": 3
   },
   "file_extension": ".py",
   "mimetype": "text/x-python",
   "name": "python",
   "nbconvert_exporter": "python",
   "pygments_lexer": "ipython3",
   "version": "3.7.7"
  },
  "toc": {
   "base_numbering": 1,
   "nav_menu": {},
   "number_sections": true,
   "sideBar": true,
   "skip_h1_title": false,
   "title_cell": "Table of Contents",
   "title_sidebar": "Contents",
   "toc_cell": false,
   "toc_position": {},
   "toc_section_display": true,
   "toc_window_display": false
  },
  "varInspector": {
   "cols": {
    "lenName": 16,
    "lenType": 16,
    "lenVar": 40
   },
   "kernels_config": {
    "python": {
     "delete_cmd_postfix": "",
     "delete_cmd_prefix": "del ",
     "library": "var_list.py",
     "varRefreshCmd": "print(var_dic_list())"
    },
    "r": {
     "delete_cmd_postfix": ") ",
     "delete_cmd_prefix": "rm(",
     "library": "var_list.r",
     "varRefreshCmd": "cat(var_dic_list()) "
    }
   },
   "types_to_exclude": [
    "module",
    "function",
    "builtin_function_or_method",
    "instance",
    "_Feature"
   ],
   "window_display": false
  }
 },
 "nbformat": 4,
 "nbformat_minor": 4
}
