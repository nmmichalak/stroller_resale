{
 "cells": [
  {
   "cell_type": "markdown",
   "metadata": {},
   "source": [
    "# Import libraries"
   ]
  },
  {
   "cell_type": "code",
   "execution_count": 316,
   "metadata": {},
   "outputs": [
    {
     "name": "stdout",
     "output_type": "stream",
     "text": [
      "shell-init: error retrieving current directory: getcwd: cannot access parent directories: Operation not permitted\n",
      "The folder you are executing pip from can no longer be found.\n",
      "shell-init: error retrieving current directory: getcwd: cannot access parent directories: Operation not permitted\n",
      "The folder you are executing pip from can no longer be found.\n"
     ]
    }
   ],
   "source": [
    "! pip install numpy pandas matplotlib seaborn requests selenium bs4 time\n",
    "! pip install pre python-ebay\n",
    "# ! pip install jupyter_contrib_nbextensions && jupyter contrib nbextension install \n",
    "\n",
    "import numpy as np\n",
    "import pandas as pd\n",
    "import matplotlib.pyplot as plt\n",
    "import seaborn as sns\n",
    "import requests\n",
    "import selenium\n",
    "from bs4 import BeautifulSoup\n",
    "import time"
   ]
  },
  {
   "cell_type": "markdown",
   "metadata": {},
   "source": [
    "# Web scraping test"
   ]
  },
  {
   "cell_type": "markdown",
   "metadata": {},
   "source": [
    "## Result page URL"
   ]
  },
  {
   "cell_type": "code",
   "execution_count": 251,
   "metadata": {},
   "outputs": [],
   "source": [
    "test_result_url = \"https://www.ebay.com/b/Strollers/66700/bn_1865261?LH_Sold=1\""
   ]
  },
  {
   "cell_type": "markdown",
   "metadata": {},
   "source": [
    "## Result page HTML"
   ]
  },
  {
   "cell_type": "code",
   "execution_count": 252,
   "metadata": {},
   "outputs": [],
   "source": [
    "test_result_html = requests.get(test_result_url)"
   ]
  },
  {
   "cell_type": "markdown",
   "metadata": {},
   "source": [
    "## Result page Soup"
   ]
  },
  {
   "cell_type": "code",
   "execution_count": 253,
   "metadata": {},
   "outputs": [],
   "source": [
    "test_result_soup = BeautifulSoup(test_result_html.text, \"html.parser\")"
   ]
  },
  {
   "cell_type": "markdown",
   "metadata": {},
   "source": [
    "## URLs from result page soup"
   ]
  },
  {
   "cell_type": "code",
   "execution_count": 254,
   "metadata": {},
   "outputs": [],
   "source": [
    "test_page_urls = [item_i.find(name = \"a\", class_ = \"s-item__link\")[\"href\"] for item_i in test_result_soup.find_all(name = \"li\", class_ = \"s-item\")]"
   ]
  },
  {
   "cell_type": "markdown",
   "metadata": {},
   "source": [
    "## HTML and soup from each stroller listing"
   ]
  },
  {
   "cell_type": "code",
   "execution_count": 255,
   "metadata": {},
   "outputs": [
    {
     "name": "stdout",
     "output_type": "stream",
     "text": [
      "Soup made for URL 1.\n",
      "Soup made for URL 2.\n",
      "Soup made for URL 3.\n",
      "Soup made for URL 4.\n",
      "Soup made for URL 5.\n",
      "Soup made for URL 6.\n",
      "Soup made for URL 7.\n",
      "Soup made for URL 8.\n",
      "Soup made for URL 9.\n",
      "Soup made for URL 10.\n",
      "Soup made for URL 11.\n",
      "Soup made for URL 12.\n",
      "Soup made for URL 13.\n",
      "Soup made for URL 14.\n",
      "Soup made for URL 15.\n",
      "Soup made for URL 16.\n",
      "Soup made for URL 17.\n",
      "Soup made for URL 18.\n",
      "Soup made for URL 19.\n",
      "Soup made for URL 20.\n",
      "Soup made for URL 21.\n",
      "Soup made for URL 22.\n",
      "Soup made for URL 23.\n",
      "Soup made for URL 24.\n",
      "Soup made for URL 25.\n",
      "Soup made for URL 26.\n",
      "Soup made for URL 27.\n",
      "Soup made for URL 28.\n",
      "Soup made for URL 29.\n",
      "Soup made for URL 30.\n",
      "Soup made for URL 31.\n",
      "Soup made for URL 32.\n",
      "Soup made for URL 33.\n",
      "Soup made for URL 34.\n",
      "Soup made for URL 35.\n",
      "Soup made for URL 36.\n",
      "Soup made for URL 37.\n",
      "Soup made for URL 38.\n",
      "Soup made for URL 39.\n",
      "Soup made for URL 40.\n",
      "Soup made for URL 41.\n",
      "Soup made for URL 42.\n",
      "Soup made for URL 43.\n",
      "Soup made for URL 44.\n",
      "Soup made for URL 45.\n",
      "Soup made for URL 46.\n",
      "Soup made for URL 47.\n",
      "Soup made for URL 48.\n"
     ]
    }
   ],
   "source": [
    "# containers for html and soup\n",
    "test_page_htmls = []\n",
    "test_page_soup = []\n",
    "\n",
    "# for loop with sleep time built in\n",
    "for i, url_i in enumerate(test_page_urls, start = 1):\n",
    "    # response/html\n",
    "    html_i = requests.get(url_i)\n",
    "    \n",
    "    # soup\n",
    "    soup_i = BeautifulSoup(html_i.text, \"html.parser\")\n",
    "    \n",
    "    # append html and soup to their containers\n",
    "    test_page_htmls.append(html_i)\n",
    "    test_page_soup.append(soup_i)\n",
    "    \n",
    "    # print iteration\n",
    "    print(\"Soup made for URL {}.\".format(i))\n",
    "    \n",
    "    # add random sleep time between 1 and 5 seconds\n",
    "    time.sleep(np.random.randint(low = 1, high = 5, size = 1))"
   ]
  },
  {
   "cell_type": "markdown",
   "metadata": {},
   "source": [
    "### Stroller listing title"
   ]
  },
  {
   "cell_type": "code",
   "execution_count": 256,
   "metadata": {},
   "outputs": [
    {
     "name": "stdout",
     "output_type": "stream",
     "text": [
      "1 Infant Toddler Baby Stroller Carriage - Cynebaby Compact Pram Strollers    | eBay\n",
      "2    Keenz Wagon 7s Stroller Color Blue  refurbished! Certificate  | eBay\n",
      "3 Infant Toddler Baby Stroller Carriage Cynebaby Compact Pram Strollers(Blue)  | eBay\n",
      "4 Keenz 7s Stroller Wagon Black for sale online | eBay\n",
      "5 Infant Car Seat Stroller Combos 4 in 1 for new born, light weight for travel   | eBay\n",
      "6 VEVOR Foldable Anti-Shock Newborn Stroller - Golden for sale online | eBay\n",
      "7 Chicco Bravo Trio Travel System Orion (orion) for sale online | eBay\n",
      "8    Keenz Wagon 7s Stroller Color Black  refurbished!  | eBay\n",
      "9 Combi Shuttle Baby Travel System Stroller & Car Seat Combo - Titanium for sale online | eBay\n",
      "10    Keenz Wagon 7s Stroller Color Black  refurbished! Certificate  | eBay\n",
      "11 New In Box!! CYBEX Priam Lux Seat in Stardust Black  for sale online\n",
      "12 Keenz 7S Stroller Wagon  | eBay\n",
      "13 Bassinet Baby Stroller Reversible All Terrain - Cynebaby Vista City Select for for sale online | eBay\n",
      "14 Evenflo Folio3 Stroller & Jog Travel System LiteMax 35 Infant Car Seat Crossover  | eBay\n",
      "15 Foldable Baby Kids Travel Stroller Newborn Infant Buggy Pushchair Child Gray  | eBay\n",
      "16 Nuna DEMI™ Grow Stroller with Sibling Seat, Aspen  | eBay\n",
      "17 Combi Shuttle Travel System/Stroller Car Seat Combo / ITEM CLOSEOUT Was $299.99  | eBay\n",
      "18 GB Pockit+ Compact Stroller in Velvet Black  | eBay\n",
      "19 Stokke Xplory Stroller in Black Melange 05/L210879A  | eBay\n",
      "20 Evenflo Pivot Xpand Modular Travel System With Safemax Infant Car Seat for sale online | eBay\n",
      "21 Infant Toddler Baby Stroller Carriage Cynebaby Compact Pram Strollers(Khaki)  | eBay\n",
      "22 Cybex Priam 3 Stroller Indigo Blue  | eBay\n",
      "23 Cybex Mios Lightweight Compact Single Baby Stroller Black Frame for sale online | eBay\n",
      "24 Evenflo Folio3 Stroller & Jog Travel System LiteMax 35 Infant Car Seat Crossover  | eBay\n",
      "25 doona car seat & stoller with LATCH Base  | eBay\n",
      "26 Baby Trend Sit 'N Stand 5-in-1 Shopper Travel System, Moon Dust  | eBay\n",
      "27 NEW IN BOX Bugaboo Ant Complete Travel Compact Stroller - Steel Blue  | eBay\n",
      "28 doona  car seat stroller Without Latch Base  | eBay\n",
      "29 BOB Revolution Flex Double Seat Jogging Stroller - Blue  | eBay\n",
      "30 GB Pockit+ Compact Stroller in Velvet Black  | eBay\n",
      "31 Nuna x pbk TRIV™ Stroller, Caviar Broken Arrow  | eBay\n",
      "32 Safety 1st Smooth Ride Travel System for sale online | eBay\n",
      "33 BABY JOGGER CITY SELECT DOUBLE STROLLER RED AND SAND Aluminum Frame  | eBay\n",
      "34 NEW IN BOX Bugaboo Ant Complete Travel Compact Stroller - Steel Blue  | eBay\n",
      "35 Baby Trend Navigator Double Jogger Stroller  | eBay\n",
      "36 Uppababy Cruz Stroller Jake (Black)  | eBay\n",
      "37 Chicco Viaro Fold Travel System, Nordic 5086  | eBay\n",
      "38 NEW IN BOX Bugaboo Ant Complete Travel Compact Stroller - Steel Blue  | eBay\n",
      "39 The Twinner. Baby Jogger Purple.  | eBay\n",
      "40 Doona™ All-in-One Infant Car Seat/Stroller  | eBay\n",
      "41 UPPAbaby Vista Red/Black Stroller w/Bassinet & Bag  | eBay\n",
      "42 GB Monument Black Pockit for sale online | eBay\n",
      "43 Nuna DEMI™ Grow Stroller with Sibling Seat, Aspen  | eBay\n",
      "44 Doona Infant Car Seat Lime Green  | eBay\n",
      "45 Chicco Viaro Fold Travel System, Nordic 5086  | eBay\n",
      "46 3 in 1 Luxury Foldable Baby Stroller High View Pram Pushchair Bassinet Car for sale online | eBay\n",
      "47 UPPAbaby Vista Henry Blue Marl Travel System for sale online | eBay\n",
      "48 Bugaboo Donkey 2 Mono  | eBay\n"
     ]
    }
   ],
   "source": [
    "for i, soup_i in enumerate(test_page_soup, start = 1):\n",
    "    try:\n",
    "        print(i, soup_i.find(\"title\").get_text())\n",
    "    except:\n",
    "        print(i, \"None\")"
   ]
  },
  {
   "cell_type": "code",
   "execution_count": 313,
   "metadata": {},
   "outputs": [
    {
     "data": {
      "text/plain": [
       "[]"
      ]
     },
     "execution_count": 313,
     "metadata": {},
     "output_type": "execute_result"
    }
   ],
   "source": [
    "test_page_soup[0].select(\".section > table:nth-child(2) > tbody:nth-child(1)\")"
   ]
  },
  {
   "cell_type": "markdown",
   "metadata": {},
   "source": [
    "### Stroller description"
   ]
  },
  {
   "cell_type": "code",
   "execution_count": 257,
   "metadata": {},
   "outputs": [
    {
     "name": "stdout",
     "output_type": "stream",
     "text": [
      "1 None\n",
      "2 None\n",
      "3 None\n",
      "4 None\n",
      "5 None\n",
      "6 None\n",
      "7 None\n",
      "8 None\n",
      "9 None\n",
      "10 None\n",
      "11 None\n",
      "12 None\n",
      "13 None\n",
      "14 None\n",
      "15 None\n",
      "16 None\n",
      "17 None\n",
      "18 None\n",
      "19 None\n",
      "20 None\n",
      "21 None\n",
      "22 None\n",
      "23 None\n",
      "24 None\n",
      "25 None\n",
      "26 None\n",
      "27 None\n",
      "28 None\n",
      "29 None\n",
      "30 None\n",
      "31 None\n",
      "32 None\n",
      "33 None\n",
      "34 None\n",
      "35 None\n",
      "36 None\n",
      "37 None\n",
      "38 None\n",
      "39 None\n",
      "40 None\n",
      "41 None\n",
      "42 None\n",
      "43 None\n",
      "44 None\n",
      "45 None\n",
      "46 None\n",
      "47 None\n",
      "48 None\n"
     ]
    }
   ],
   "source": [
    "for i, soup_i in enumerate(test_page_soup, start = 1):\n",
    "    try:\n",
    "        print(i, soup_i.find(name = \"div\", class_ = \"s-item__subtitle\").get_text())\n",
    "    except:\n",
    "        print(i, \"None\")"
   ]
  },
  {
   "cell_type": "markdown",
   "metadata": {},
   "source": [
    "### Stroller price"
   ]
  },
  {
   "cell_type": "code",
   "execution_count": 210,
   "metadata": {},
   "outputs": [
    {
     "name": "stdout",
     "output_type": "stream",
     "text": [
      "$119.00\n",
      "$289.99\n",
      "$119.00\n",
      "$200.00\n",
      "$270.00\n",
      "$219.96\n",
      "$299.99\n",
      "$250.00\n",
      "$139.99\n",
      "$289.99\n",
      "$125.00\n",
      "$349.99\n",
      "$129.99\n",
      "$199.99\n",
      "$508.00\n",
      "$311.00\n",
      "$65.95\n",
      "$139.99\n",
      "$68.00\n",
      "$202.49\n",
      "$119.00\n",
      "$239.00\n",
      "$179.50\n",
      "$169.99\n",
      "$350.00\n",
      "$102.50\n",
      "$260.00\n",
      "$97.00\n",
      "$335.00\n",
      "$91.00\n",
      "$510.00\n",
      "$49.00\n",
      "$102.50\n",
      "$255.00\n",
      "$93.00\n",
      "$410.00\n",
      "$198.50\n",
      "$305.00\n",
      "$80.00\n",
      "$129.50\n",
      "$660.00\n",
      "$75.00\n",
      "$233.50\n",
      "$172.50\n",
      "$127.50\n",
      "$134.99\n",
      "$102.50\n",
      "$600.00\n"
     ]
    }
   ],
   "source": [
    "for item_i in test_soup.find_all(name = \"li\", class_ = \"s-item\"):\n",
    "    try:\n",
    "        print(item_i.find(name = \"span\", class_ = \"s-item__price\").get_text())\n",
    "    except:\n",
    "        print(\"None\")"
   ]
  },
  {
   "cell_type": "markdown",
   "metadata": {},
   "source": [
    "### Stroller sale end date"
   ]
  },
  {
   "cell_type": "code",
   "execution_count": 211,
   "metadata": {},
   "outputs": [
    {
     "name": "stdout",
     "output_type": "stream",
     "text": [
      "Apr 18, 2020\n",
      "May 31, 2020\n",
      "May 30, 2020\n",
      "Apr 8, 2020\n",
      "May 31, 2020\n",
      "May 31, 2020\n",
      "Apr 3, 2020\n",
      "Mar 3, 2020\n",
      "Jun 1, 2020\n",
      "May 31, 2020\n",
      "May 28, 2020\n",
      "Mar 5, 2020\n",
      "May 30, 2020\n",
      "May 6, 2020\n",
      "May 28, 2020\n",
      "May 29, 2020\n",
      "May 29, 2020\n",
      "Apr 23, 2020\n",
      "Mar 21, 2020\n",
      "May 28, 2020\n",
      "Mar 17, 2020\n",
      "May 25, 2020\n",
      "May 29, 2020\n",
      "Apr 9, 2020\n",
      "May 31, 2020\n",
      "May 24, 2020\n",
      "May 11, 2020\n",
      "May 24, 2020\n",
      "May 28, 2020\n",
      "Mar 18, 2020\n",
      "May 27, 2020\n",
      "Jun 1, 2020\n",
      "May 3, 2020\n",
      "May 24, 2020\n",
      "May 17, 2020\n",
      "May 29, 2020\n",
      "May 17, 2020\n",
      "May 25, 2020\n",
      "May 31, 2020\n",
      "May 21, 2020\n",
      "May 29, 2020\n",
      "Mar 7, 2020\n",
      "Mar 24, 2020\n",
      "May 10, 2020\n",
      "May 16, 2020\n",
      "May 28, 2020\n",
      "May 11, 2020\n",
      "Apr 5, 2020\n"
     ]
    }
   ],
   "source": [
    "for item_i in test_soup.find_all(name = \"li\", class_ = \"s-item\"):\n",
    "    try:\n",
    "        print(item_i.find(name = \"span\", class_ = \"s-item__ended-date s-item__endedDate\").get_text())\n",
    "    except:\n",
    "        print(\"None\")"
   ]
  },
  {
   "cell_type": "markdown",
   "metadata": {},
   "source": [
    "### Stroller delivery option"
   ]
  },
  {
   "cell_type": "code",
   "execution_count": 212,
   "metadata": {},
   "outputs": [
    {
     "name": "stdout",
     "output_type": "stream",
     "text": [
      "Free shipping\n",
      "Free shipping\n",
      "Free shipping\n",
      "Free shipping\n",
      "Free shipping\n",
      "Free shipping\n",
      "Free shipping\n",
      "Free shipping\n",
      "Free shipping\n",
      "Free shipping\n",
      "$24.99 shipping\n",
      "Free shipping\n",
      "Free shipping\n",
      "Free shipping\n",
      "$20.00 shipping\n",
      "Free shipping\n",
      "Free shipping\n",
      "Free shipping\n",
      "$15.00 shipping\n",
      "Free shipping\n",
      "Free shipping\n",
      "Free shipping\n",
      "Free shipping\n",
      "Free shipping\n",
      "$9.90 shipping\n",
      "$35.62 shipping\n",
      "$25.00 shipping\n",
      "$49.09 shipping\n",
      "$25.00 shipping\n",
      "$15.00 shipping\n",
      "$20.00 shipping\n",
      "$106.23 shipping\n",
      "$74.15 shipping\n",
      "$34.70 shipping\n",
      "$44.44 shipping\n",
      "Free shipping\n",
      "Free shipping\n",
      "$8.12 shipping\n",
      "$12.08 shipping\n",
      "$46.45 shipping\n",
      "Free shipping\n",
      "$10.00 shipping\n",
      "$39.79 shipping\n",
      "$48.30 shipping\n",
      "Free shipping\n",
      "Free shipping\n",
      "$39.99 shipping\n",
      "$30.00 shipping\n"
     ]
    }
   ],
   "source": [
    "for item_i in test_soup.find_all(name = \"li\", class_ = \"s-item\"):\n",
    "    try:\n",
    "        print(item_i.find(name = \"span\", class_ = \"s-item__shipping s-item__logisticsCost\").get_text())\n",
    "    except:\n",
    "        print(\"None\")"
   ]
  },
  {
   "cell_type": "markdown",
   "metadata": {},
   "source": [
    "### Stroller attribute 1"
   ]
  },
  {
   "cell_type": "code",
   "execution_count": 213,
   "metadata": {},
   "outputs": [
    {
     "name": "stdout",
     "output_type": "stream",
     "text": [
      "Brand: Cynebaby\n",
      "Color: Blue\n",
      "Brand: Cynebaby\n",
      "Color: Black\n",
      "Brand: Unbranded\n",
      "Brand: VEVOR\n",
      "Brand: Chicco\n",
      "Color: Black\n",
      "Brand: Combi\n",
      "Color: Black\n",
      "Brand: Cybex\n",
      "Features: Hood/Canopy\n",
      "Brand: Cynebaby\n",
      "Brand: Evenflo\n",
      "Brand: Cybex\n",
      "Brand: Nuna\n",
      "Brand: Unbranded\n",
      "Brand: Combi\n",
      "Brand: GB\n",
      "Brand: Stokke\n",
      "Brand: Cynebaby\n",
      "Brand: Evenflo\n",
      "Brand: Cybex\n",
      "Brand: Evenflo\n",
      "Brand: Doona\n",
      "Brand: Baby Trend\n",
      "Brand: Bugaboo\n",
      "Brand: BOB\n",
      "Brand: Doona\n",
      "Brand: GB\n",
      "Brand: Nuna\n",
      "Brand: Safety 1st\n",
      "Brand: Baby Jogger\n",
      "Brand: Bugaboo\n",
      "Brand: Baby Trend\n",
      "Color: Blue\n",
      "Type: Travel System\n",
      "Brand: Bugaboo\n",
      "Brand: Baby Jogger\n",
      "Brand: UPPAbaby\n",
      "Brand: Nuna\n",
      "Brand: GB\n",
      "Brand: Doona\n",
      "Brand: Baby Trend\n",
      "Type: Travel System\n",
      "Brand: Baby Trend\n",
      "Color: Brown\n",
      "Brand: Bugaboo\n"
     ]
    }
   ],
   "source": [
    "for item_i in test_soup.find_all(name = \"li\", class_ = \"s-item\"):\n",
    "    try:\n",
    "        print(item_i.find(name = \"span\", class_ = \"s-item__dynamic s-item__dynamicAttributes1\").get_text())\n",
    "    except:\n",
    "        print(\"None\")"
   ]
  },
  {
   "cell_type": "markdown",
   "metadata": {},
   "source": [
    "### Stroller attribute 2"
   ]
  },
  {
   "cell_type": "code",
   "execution_count": 214,
   "metadata": {},
   "outputs": [
    {
     "name": "stdout",
     "output_type": "stream",
     "text": [
      "Type: Carriage\n",
      "Model: Keenz 7S\n",
      "Type: Carriage\n",
      "Model: Keenz 7S\n",
      "Type: Stroller Seat\n",
      "Type: Buggy\n",
      "Type: Travel System\n",
      "Model: Keenz 7S\n",
      "Type: Travel System\n",
      "Model: Keenz 7S\n",
      "Type: Stroller Seat\n",
      "Color: Blue\n",
      "Type: Pushchair\n",
      "Type: Travel System\n",
      "Color: Blue\n",
      "Type: Stroller Seat\n",
      "Type: Pushchair\n",
      "Type: Travel System\n",
      "Color: Black\n",
      "Color: Black\n",
      "Type: Carriage\n",
      "Type: Travel System\n",
      "Features: Adjustable Handles\n",
      "Type: Travel System\n",
      "None\n",
      "Type: Travel System\n",
      "Type: Travel System\n",
      "Type: Stroller Seat\n",
      "Type: Stroller Seat\n",
      "Color: Black\n",
      "None\n",
      "Type: Travel System\n",
      "Type: Stroller Frame\n",
      "Type: Travel System\n",
      "Type: Jogger\n",
      "Model: UPPAbaby CRUZ\n",
      "None\n",
      "Type: Travel System\n",
      "Type: Jogger\n",
      "Features: Adjustable Handles\n",
      "Type: Stroller Seat\n",
      "Type: Travel System\n",
      "Color: Green\n",
      "Type: Jogger\n",
      "None\n",
      "Type: Traditional & Combination\n",
      "None\n",
      "Color: Blue\n"
     ]
    }
   ],
   "source": [
    "for item_i in test_soup.find_all(name = \"li\", class_ = \"s-item\"):\n",
    "    try:\n",
    "        print(item_i.find(name = \"span\", class_ = \"s-item__dynamic s-item__dynamicAttributes2\").get_text())\n",
    "    except:\n",
    "        print(\"None\")"
   ]
  },
  {
   "cell_type": "markdown",
   "metadata": {},
   "source": [
    "### Stroller attribute 3"
   ]
  },
  {
   "cell_type": "code",
   "execution_count": 215,
   "metadata": {},
   "outputs": [
    {
     "name": "stdout",
     "output_type": "stream",
     "text": [
      "Age: Infant\n",
      "None\n",
      "Color: Beige\n",
      "None\n",
      "Features: Basket\n",
      "Color: Gold\n",
      "None\n",
      "None\n",
      "Features: Adjustable Back Rest\n",
      "None\n",
      "Features: Forward/Rear Facing\n",
      "Model: Keenz 7S\n",
      "Features: Reversible\n",
      "Age: Infant\n",
      "Model: Cybex Priam\n",
      "None\n",
      "Color: Gray\n",
      "Features: Five-point Harness\n",
      "Model: gb Pockit\n",
      "Model: Xplory\n",
      "Color: Beige\n",
      "Features: Adjustable Handles\n",
      "Color: Black\n",
      "Age: Infant\n",
      "None\n",
      "Model: Shopper\n",
      "Color: Blue\n",
      "Features: Basket\n",
      "Age: Infant\n",
      "Model: gb Pockit\n",
      "None\n",
      "Features: Adjustable Back Rest\n",
      "Color: Red\n",
      "Color: Blue\n",
      "Features: Folding\n",
      "None\n",
      "None\n",
      "Color: Blue\n",
      "Color: Purple\n",
      "Color: Black\n",
      "None\n",
      "Features: Travel System Compatible\n",
      "Age: Infant\n",
      "Features: Folding\n",
      "None\n",
      "Features: Cup Holder\n",
      "None\n",
      "Model: Donkey\n"
     ]
    }
   ],
   "source": [
    "for item_i in test_soup.find_all(name = \"li\", class_ = \"s-item\"):\n",
    "    try:\n",
    "        print(item_i.find(name = \"span\", class_ = \"s-item__dynamic s-item__dynamicAttributes3\").get_text())\n",
    "    except:\n",
    "        print(\"None\")"
   ]
  },
  {
   "cell_type": "markdown",
   "metadata": {},
   "source": [
    "## Stroller brands"
   ]
  },
  {
   "cell_type": "code",
   "execution_count": 115,
   "metadata": {},
   "outputs": [],
   "source": [
    "stroller_brands = [\"4moms\", \"ABC Design\", \"Aprica\", \"Austlen\", \"Babies\"R\"Us\", \"Babyhome\", \"Baby Jogger\", \"Baby King\", \"Baby Planet\", \"Baby Trend\", \"BABYZEN\", \"bebe Love\", \"Belecoo\", \"Besrey\", \"Bloom\", \"BOB\", \"Britax\", \"Britax Römer\", \"Bugaboo\", \"Bumbleride\", \"Burley\", \"Chariot\", \"Chicco\", \"Childcare\", \"Child Craft\", \"Combi\", \"Contours\", \"Cosatto\", \"Cosco\", \"Costway\", \"Crown\", \"Cybex\", \"Cynebaby\", \"Delta Children\", \"diono\", \"Disney\", \"Doona\", \"Dreamer Design\", \"Dream On Me\", \"Eddie Bauer\", \"Emmaljunga\", \"Englacha\", \"Ergobaby\", \"Evenflo\", \"Fendi\", \"Ferrari\", \"First Steps\", \"Foundations\", \"GB\", \"Giantex\", \"Goodbaby\", \"GoPlus\", \"Graco\", \"Handmade\", \"hauck\", \"Hot Mom\", \"iCandy\", \"Inglesina\", \"InSTEP\", \"Jane\", \"Jeep\", \"Joolz\", \"Joovy\", \"Kelty\", \"KidsEmbrace\", \"Kolcraft\", \"Kool-Stop\", \"Kool Stride\", \"Lamaze\", \"Lascal\", \"Little Tikes\", \"Maclaren\", \"mamas & papas\", \"Maxi-Cosi\", \"Micralite\", \"Mima\", \"Mothercare\", \"Mountain Buggy\", \"Nuna\", \"Orbit\", \"Orbit Baby\", \"Out n About\", \"OXO\", \"Oyster\", \"Peg Perego\", \"phil&teds\", \"QuickSmart\", \"Quinny\", \"RECARO\", \"RunAbout\", \"Safeplus\", \"Safety 1st\", \"Schwinn\", \"Silver Cross\", \"Simplicity\", \"Stokke\", \"StrollAir\", \"Summer Infant\", \"Tako\"\", Target\", \"teutonia\", \"Thule\", \"Tike Tech\", \"Unbranded\", \"UPPAbaby\", \"Urbini\", \"Valco\", \"VEVOR\", \"Not Specified\"]"
   ]
  },
  {
   "cell_type": "markdown",
   "metadata": {},
   "source": [
    "## Stroller seating capacities"
   ]
  },
  {
   "cell_type": "code",
   "execution_count": 116,
   "metadata": {},
   "outputs": [],
   "source": [
    "seating_capacities = [\"Single\", \"Double\", \"Triple\", \"Quad & More\", \"Not Specified\"]"
   ]
  },
  {
   "cell_type": "markdown",
   "metadata": {},
   "source": [
    "## Stroller types"
   ]
  },
  {
   "cell_type": "code",
   "execution_count": 117,
   "metadata": {},
   "outputs": [],
   "source": [
    "stroller_types = [\"Buggy\", \"Carriage\", \"Jogger\", \"Lightweight, Umbrella\", \"Pull-Along Wagon\", \"Pushchair\", \"Stroller Frame\", \"Stroller Seat\", \"Traditional & Combination\", \"Travel System\", \"Tricycle Stroller\", \"Not Specified\"]"
   ]
  },
  {
   "cell_type": "markdown",
   "metadata": {},
   "source": [
    "## Stroller meant for which baby ages"
   ]
  },
  {
   "cell_type": "code",
   "execution_count": 118,
   "metadata": {},
   "outputs": [],
   "source": [
    "baby_ages = [\"Infant\", \"Toddler\", \"Not Specified\"]"
   ]
  },
  {
   "cell_type": "markdown",
   "metadata": {},
   "source": [
    "## Stroller colors"
   ]
  },
  {
   "cell_type": "code",
   "execution_count": 119,
   "metadata": {},
   "outputs": [],
   "source": [
    "stroller_colors = [\"Beige\", \"Black\", \"Blue\", \"Brown\", \"Clear\", \"Gold\", \"Gray\", \"Green\", \"Multicolor\", \"Orange\", \"Pink\", \"Purple\", \"Red\", \"Silver\", \"White\", \"Yellow\", \"Not Specified\"]"
   ]
  },
  {
   "cell_type": "markdown",
   "metadata": {},
   "source": [
    "## Stroller features"
   ]
  },
  {
   "cell_type": "code",
   "execution_count": 120,
   "metadata": {},
   "outputs": [],
   "source": [
    "stroller_features = [\"3 in 1\", \"3-Wheel\", \"Adjustable Back Rest\", \"Adjustable Handles\", \"Adjustable Leg Rest\", \"All Terrain\", \"Auto-Locking\", \"Basket\", \"Bassinet/Carrycot\", \"Built-In Speakers\", \"Carry Handle\", \"Car Seat Alarm\", \"Cup Holder\", \"Five-point Harness\", \"Folding\", \"Footmuff\", \"Forward/Rear Facing\", \"Hand Brake\", \"Hanging Bag\", \"Hood/Canopy\", \"Insect Cover\", \"Integrated Brake System\", \"Leather Covers\", \"Lightweight Buggy\", \"Lockable Swivel Wheels\", \"One-Hand Push\", \"Rain Cover\", \"Reversible\", \"Special Needs\", \"Travel System Compatible\", \"Umbrella/Parasol\", \"Not Specified\"]"
   ]
  },
  {
   "cell_type": "markdown",
   "metadata": {},
   "source": [
    "## Stroller wheel types"
   ]
  },
  {
   "cell_type": "code",
   "execution_count": 121,
   "metadata": {},
   "outputs": [],
   "source": [
    "wheel_types = [\"Air Filled Tires\", \"Air Wheel Tires with Sealed Ball Bearings\", \"Pneumatic Tires\", \"Rubber Tires\", \"Not Specified\"]"
   ]
  },
  {
   "cell_type": "markdown",
   "metadata": {},
   "source": [
    "## Stroller model"
   ]
  },
  {
   "cell_type": "code",
   "execution_count": 122,
   "metadata": {},
   "outputs": [],
   "source": [
    "stroller_models = [\"360\", \"Baby Jogger City Mini\", \"Baby Jogger City Mini GT\", \"Baby Jogger City Mini GT Double\", \"Baby Jogger City Select\", \"Baby Trend Expedition Jogger Stroller\", \"BABYZEN YOYO+\", \"Bee\", \"BOB Revolution Flex 2.0\", \"BOB Revolution PRO\", \"Britax B-Dual\", \"Britax B-Ready\", \"Bugaboo Buffalo\", \"Bugaboo Frog\", \"Bumbleride Indie Twin\", \"Caboose\", \"Cameleon\", \"Chicco BravoFor2\", \"Combi Cosmo\", \"Contours Options\", \"Cybex Priam\", \"Donkey\", \"Evenflo EPIC\", \"Flip\", \"Freerider\", \"G3\", \"gb Pockit\", \"Graco LiteRider LX\", \"Graco RoadMaster\", \"Keenz 7S\", \"Kensington\", \"Malibu\", \"MB30\", \"Mountain Buggy Duet\", \"My Babiie MB200\", \"Nitro\", \"Pace Click Connect\", \"Peg Perego Book Pop-Up\", \"phil&teds Dot\", \"Safety 1st Smooth Ride\", \"Shopper\", \"Silver Cross Wave\", \"Silver Cross Wayfarer\", \"Stokke Crusi\", \"Strawberry\", \"Summer 3Dmini\", \"UPPAbaby CRUZ\", \"UPPAbaby VISTA\", \"Urbini Omni Plus\", \"V3\", \"Verb Click Connect\", \"Xplory\", \"Not Specified\"]"
   ]
  },
  {
   "cell_type": "markdown",
   "metadata": {},
   "source": [
    "## Stroller product line"
   ]
  },
  {
   "cell_type": "code",
   "execution_count": 123,
   "metadata": {},
   "outputs": [],
   "source": [
    "product_lines = [\"Baby Jogger City Mini\", \"Baby Jogger City Select\", \"Babyzen Yoyo\", \"BOB Revolution\", \"Bugaboo Cameleon\", \"Graco Modes\", \"Graco UNO2DUO\", \"McLaren Quest\", \"Mima Xari\", \"Mima Zigi\", \"Nuna MIXX\", \"Quinny Zapp Flex\", \"Quinny Zapp Xtra\", \"Thule Urban Glide\", \"Uppababy Vista\", \"Not Specified\"]"
   ]
  },
  {
   "cell_type": "markdown",
   "metadata": {},
   "source": [
    "## Stroller conditions"
   ]
  },
  {
   "cell_type": "code",
   "execution_count": 124,
   "metadata": {},
   "outputs": [],
   "source": [
    "stroller_conditions = [\"New\",\"New other (see details)\",\"Used\",\"For parts or not working\"]"
   ]
  },
  {
   "cell_type": "markdown",
   "metadata": {},
   "source": [
    "## Stroller listing types"
   ]
  },
  {
   "cell_type": "code",
   "execution_count": 125,
   "metadata": {},
   "outputs": [],
   "source": [
    "listing_types = [\"All Listings\", \"Best Offer\", \"Auction\", \"Buy It Now\"]"
   ]
  },
  {
   "cell_type": "markdown",
   "metadata": {},
   "source": [
    "## Stroller location"
   ]
  },
  {
   "cell_type": "code",
   "execution_count": 126,
   "metadata": {},
   "outputs": [],
   "source": [
    "stroller_locations = [\"Default\", \"US Only\", \"North America\", \"Worldwide\"]"
   ]
  },
  {
   "cell_type": "markdown",
   "metadata": {},
   "source": [
    "## Stroller delivery options"
   ]
  },
  {
   "cell_type": "code",
   "execution_count": 127,
   "metadata": {},
   "outputs": [],
   "source": [
    "delivery_options = [\"Free Shipping\", \"Free In-store Pickup\"]"
   ]
  },
  {
   "cell_type": "markdown",
   "metadata": {},
   "source": [
    "# Web scraping real"
   ]
  },
  {
   "cell_type": "markdown",
   "metadata": {},
   "source": [
    "## URL for sold strollers results (page 1)"
   ]
  },
  {
   "cell_type": "code",
   "execution_count": 128,
   "metadata": {},
   "outputs": [],
   "source": [
    "sold_strollers_url = \"https://www.ebay.com/b/Strollers/66700/bn_1865261?rt=nc&LH_Sold=1\""
   ]
  },
  {
   "cell_type": "markdown",
   "metadata": {},
   "source": [
    "## HTML"
   ]
  },
  {
   "cell_type": "code",
   "execution_count": 129,
   "metadata": {},
   "outputs": [],
   "source": [
    "sold_strollers_html = requests.get(sold_strollers_url)"
   ]
  },
  {
   "cell_type": "markdown",
   "metadata": {},
   "source": [
    "## Soup"
   ]
  },
  {
   "cell_type": "code",
   "execution_count": 130,
   "metadata": {},
   "outputs": [],
   "source": [
    "sold_strollers_soup = BeautifulSoup(sold_strollers_html.text, \"html.parser\")"
   ]
  },
  {
   "cell_type": "markdown",
   "metadata": {},
   "source": [
    "## Number of pages and results"
   ]
  },
  {
   "cell_type": "code",
   "execution_count": 131,
   "metadata": {},
   "outputs": [
    {
     "name": "stdout",
     "output_type": "stream",
     "text": [
      "1-48 of 6,541 Results\n"
     ]
    }
   ],
   "source": [
    "# text from results displayed at top of page\n",
    "results_text = sold_strollers_soup.find(name = \"h2\", attrs = {\"class\": \"srp-controls__count-heading\"}).get_text()\n",
    "\n",
    "print(results_text)\n",
    "\n",
    "# pages\n",
    "n_pages = int(results_text.replace(\",\", \"\").replace(\"-\", \" \").split()[1])\n",
    "\n",
    "# results\n",
    "n_results = int(results_text.replace(\",\", \"\").replace(\"-\", \" \").split()[3])"
   ]
  },
  {
   "cell_type": "markdown",
   "metadata": {},
   "source": [
    "## Get result page soup from all results pages"
   ]
  },
  {
   "cell_type": "code",
   "execution_count": 137,
   "metadata": {},
   "outputs": [],
   "source": [
    "# will hold soup from each page of results\n",
    "result_pages = []\n",
    "\n",
    "# 3 steps (1 - number of pages)\n",
    "for page_i in np.arange(n_pages) + 1:\n",
    "    # url\n",
    "    url_i = \"https://www.ebay.com/b/Strollers/66700/bn_1865261?rt=nc&LH_Sold=\" + str(page_i)\n",
    "    \n",
    "    # html/response\n",
    "    html_i = requests.get(url_i)\n",
    "    \n",
    "    # add random sleep time between 1 and 10 seconds\n",
    "    time.sleep(np.random.randint(low = 1, high = 5, size = 1))\n",
    "    \n",
    "    # soup\n",
    "    soup_i = BeautifulSoup(html_i.text, \"html.parser\")\n",
    "    \n",
    "    # append to container\n",
    "    result_pages.append(soup_i)\n",
    "    \n",
    "    # results\n",
    "    print(\"Made soup from page {}.\".format(page_i))"
   ]
  }
 ],
 "metadata": {
  "kernelspec": {
   "display_name": "Python 3",
   "language": "python",
   "name": "python3"
  },
  "language_info": {
   "codemirror_mode": {
    "name": "ipython",
    "version": 3
   },
   "file_extension": ".py",
   "mimetype": "text/x-python",
   "name": "python",
   "nbconvert_exporter": "python",
   "pygments_lexer": "ipython3",
   "version": "3.7.7"
  },
  "toc": {
   "base_numbering": 1,
   "nav_menu": {},
   "number_sections": true,
   "sideBar": true,
   "skip_h1_title": false,
   "title_cell": "Table of Contents",
   "title_sidebar": "Contents",
   "toc_cell": false,
   "toc_position": {},
   "toc_section_display": true,
   "toc_window_display": false
  },
  "varInspector": {
   "cols": {
    "lenName": 16,
    "lenType": 16,
    "lenVar": 40
   },
   "kernels_config": {
    "python": {
     "delete_cmd_postfix": "",
     "delete_cmd_prefix": "del ",
     "library": "var_list.py",
     "varRefreshCmd": "print(var_dic_list())"
    },
    "r": {
     "delete_cmd_postfix": ") ",
     "delete_cmd_prefix": "rm(",
     "library": "var_list.r",
     "varRefreshCmd": "cat(var_dic_list()) "
    }
   },
   "types_to_exclude": [
    "module",
    "function",
    "builtin_function_or_method",
    "instance",
    "_Feature"
   ],
   "window_display": false
  }
 },
 "nbformat": 4,
 "nbformat_minor": 4
}
